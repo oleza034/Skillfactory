{
 "cells": [
  {
   "cell_type": "markdown",
   "id": "b22568dd",
   "metadata": {},
   "source": [
    "**Задание 14.1.3**\n",
    "Задание на самопроверку.\n",
    "\n",
    "Напишите функцию, которая проверяет, является ли число n делителем числа a. И выводит на экран соответствующее сообщение, является ли число делителем или нет."
   ]
  },
  {
   "cell_type": "code",
   "execution_count": null,
   "id": "b8679df4",
   "metadata": {
    "scrolled": true
   },
   "outputs": [],
   "source": [
    "def is_divider(n:int, a:int):\n",
    "    '''\n",
    "    returns True if a can be divided by n; otherwise returns False\n",
    "    '''\n",
    "    return not(a % n);\n",
    "\n",
    "print(is_divider(3, 6));"
   ]
  },
  {
   "cell_type": "markdown",
   "id": "7adbffcf",
   "metadata": {},
   "source": [
    "**Задание 14.1.4**\n",
    "Задание на самопроверку.\n",
    "\n",
    "Напишите функцию, которая печатает «обратную лесенку» следующего типа:\n",
    "\n",
    "n = 3\n",
    "\\*\\*\\*\n",
    "\\*\\*\n",
    "\\*\n",
    "\n",
    "n = 4\n",
    "\\*\\*\\*\\*\n",
    "\\*\\*\\*\n",
    "\\*\\*\n",
    "\\*"
   ]
  },
  {
   "cell_type": "code",
   "execution_count": null,
   "id": "9fad7e5b",
   "metadata": {},
   "outputs": [],
   "source": [
    "def reverseLadder(steps: int):\n",
    "    '''\n",
    "    Prints a ladder with defined number of steps\n",
    "    '''\n",
    "    s = '=';\n",
    "    print('n =', steps);\n",
    "    for i in range(steps, 0, -1):\n",
    "        print (s * i);\n",
    "    print('');\n",
    "    \n",
    "\n",
    "reverseLadder(5);\n",
    "reverseLadder(3);\n"
   ]
  },
  {
   "cell_type": "markdown",
   "id": "98ef612e",
   "metadata": {},
   "source": [
    "**Задание 14.1.5**\n",
    "Задание на самопроверку.\n",
    "\n",
    "Напишите функцию, которая будет возвращать количество делителей числа а.\n",
    "\n",
    "Пример ввода: 5\n",
    "\n",
    "Пример вывода программы: 2"
   ]
  },
  {
   "cell_type": "code",
   "execution_count": null,
   "id": "36a875c3",
   "metadata": {},
   "outputs": [],
   "source": [
    "def dividers_count(number: int):\n",
    "    n = 0\n",
    "    for i in range(1, number + 1):\n",
    "        if (number % i) == 0: n += 1;\n",
    "    return n;\n",
    "\n",
    "print(dividers_count(6));\n",
    "print(dividers_count(12));"
   ]
  },
  {
   "cell_type": "markdown",
   "id": "a528564b",
   "metadata": {},
   "source": [
    "**Задание 14.1.6**\n",
    "Задание на самопроверку.\n",
    "\n",
    "Напишите функцию, которая проверяет, является ли данная строка палиндромом или нет, и возвращает результат проверки. Пример:\n",
    "\n",
    "check_palindrome(\"test\")  # False\n",
    "check_palindrome(\"Кит на море не романтик\")  # True"
   ]
  },
  {
   "cell_type": "code",
   "execution_count": null,
   "id": "c4ef5360",
   "metadata": {},
   "outputs": [],
   "source": [
    "def check_palindrome(text: str):\n",
    "    s = text.replace(' ', '').replace('\\n', '').replace(',', '').replace('.', '').lower();\n",
    "    return s == s[::-1]\n",
    "\n",
    "print(check_palindrome('T e\\nst'));\n",
    "print(check_palindrome('Кит на море не романтик'));"
   ]
  },
  {
   "cell_type": "markdown",
   "id": "de611b9f",
   "metadata": {},
   "source": [
    "**Задание 14.2.1**\n",
    "Задание на самопроверку.\n",
    "\n",
    "Попробуйте самостоятельно предугадать, что будет напечатано в результате выполнения данного кода, не смотря на ответ, который будет дан дальше."
   ]
  },
  {
   "cell_type": "code",
   "execution_count": null,
   "id": "37313cea",
   "metadata": {},
   "outputs": [],
   "source": [
    "x = 3\n",
    "\n",
    "\n",
    "def func():\n",
    "   print(x)\n",
    "   x = 5\n",
    "   x += 5\n",
    "   return x\n",
    "\n",
    "\n",
    "print(func())"
   ]
  },
  {
   "cell_type": "markdown",
   "id": "bf0b5f0b",
   "metadata": {},
   "source": [
    "<details><summary><b>Ответ:</b></summary>\n",
    "   <p>\n",
    "Ошибка возникает, потому что Python замечает, что вы пытаетесь распечатать значение локальной (!) переменной х в функции func до её объявления, что и приводит к ошибке, так как х еще не определен.\n",
    "\n",
    "Ещё раз повторим правило, которое было озвучено ранее: область видимости переменной (где она может использоваться) всегда определяется местом, где ей было присвоено значение. То есть переменная х в пятой строке никакого отношения к переменной х в первой строке не имеет. Они просто имеют одинаковые названия, не более чем. Соответственно, переменная х здесь выступает как локальная и никакого отношения к глобальной области не имеет. Интерпретатор начинает проверять локальную область видимости функции func, видит что тут объявлена такая переменная, пытается обратиться к ней, но не может получить её значение, потому что эта переменная получает его в шестой строке.\n",
    "\n",
    "Как обойти это ограничение? Нужно использовать оператор global, который объявляет переменную доступной для блока кода, следующим за оператором. Давайте попробуем использовать глобальную область видимости для исправления нашей ошибки из предыдущего примера:\n",
    "\n",
    "   </p>\n",
    "   <p>\n",
    "\n",
    "```\n",
    "   x = 3\n",
    "\n",
    "   def func():\n",
    "       global x # объявляем, что переменная является глобальной\n",
    "       print(x)\n",
    "       x = 5\n",
    "       x += 5\n",
    "       return x\n",
    "\n",
    "    func()\n",
    "    print(x)\n",
    "```\n",
    "\n",
    "   </p>\n",
    "   <p>\n",
    "Что изменилось здесь? В данном случае с помощью оператора global мы в локальную область видимости помещаем нашу глобальную переменную х.\n",
    "       \n",
    "Хотим обратить ваше внимание на то, что **не нужно менять глобальные переменные внутри функции**. Комьюнити *Python* объявило такую практику очень нежелательной, так как из-за этого исправление кода становится намного сложнее.\n",
    "   </p>\n",
    "</details>"
   ]
  },
  {
   "cell_type": "markdown",
   "id": "2ba68184",
   "metadata": {},
   "source": [
    "**Задание 14.2.2**\n",
    "Задание на самопроверку.\n",
    "\n",
    "Написать функцию, которая будет перемножать любое количество переданных ей аргументов"
   ]
  },
  {
   "cell_type": "code",
   "execution_count": null,
   "id": "e4a69e19",
   "metadata": {},
   "outputs": [],
   "source": [
    "def multiplier(*numbers):\n",
    "    result = 1\n",
    "    for i in numbers:\n",
    "        result *= i\n",
    "    return result\n",
    "\n",
    "\n",
    "print(multiplier(2,3,4))"
   ]
  },
  {
   "cell_type": "markdown",
   "id": "6c4b2c82",
   "metadata": {},
   "source": [
    "**Задание 14.2.3** Задания на самопроверку.\n",
    "\n",
    "С помощью рекурсивной функции найдите сумму чисел от 1 до n."
   ]
  },
  {
   "cell_type": "code",
   "execution_count": null,
   "id": "df697288",
   "metadata": {},
   "outputs": [],
   "source": [
    "def mysum(n):\n",
    "    if n == 1:\n",
    "        return 1\n",
    "    else:\n",
    "        return n + mysum(n - 1)\n",
    "    \n",
    "\n",
    "print(mysum(10))"
   ]
  },
  {
   "cell_type": "markdown",
   "id": "f75e4fb3",
   "metadata": {},
   "source": [
    "**Задание 14.2.4**\n",
    "\n",
    "С помощью рекурсивной функции разверните строку."
   ]
  },
  {
   "cell_type": "code",
   "execution_count": null,
   "id": "69105657",
   "metadata": {},
   "outputs": [],
   "source": [
    "def reverse(s):\n",
    "    if len(s) > 1:\n",
    "        return reverse(s[1:]) + s[0]\n",
    "    else:\n",
    "        return s\n",
    "    \n",
    "    \n",
    "print(reverse('А роза упала на лапу Азора'))"
   ]
  },
  {
   "cell_type": "markdown",
   "id": "6c755176",
   "metadata": {},
   "source": [
    "**Задание 14.2.5** Дано натуральное число N. Вычислите сумму его цифр.\n",
    "\n",
    "При решении этой задачи нельзя использовать строки, списки, массивы (ну и циклы, разумеется)."
   ]
  },
  {
   "cell_type": "code",
   "execution_count": null,
   "id": "710ce34c",
   "metadata": {},
   "outputs": [],
   "source": [
    "def digit_sum(n: int):\n",
    "    if n < 0:\n",
    "        return digit_sum(-n)\n",
    "    elif n < 10:\n",
    "        return n\n",
    "    else:\n",
    "        return (n % 10) + digit_sum(n // 10)\n",
    "    \n",
    "    \n",
    "print(digit_sum(15123))"
   ]
  },
  {
   "cell_type": "markdown",
   "id": "e004ad27",
   "metadata": {},
   "source": [
    "**Задание 14.3.1**\n",
    "Задание на самопроверку.\n",
    "\n",
    "Создайте функцию-генератор, возвращающую бесконечную последовательность натуральных чисел. По умолчанию, она начинается с единицы и шагом 1, но пользователь может указать любой шаг и любое число в качестве аргумента функции, с которого будет начинаться последовательность."
   ]
  },
  {
   "cell_type": "code",
   "execution_count": null,
   "id": "8a2c7aeb",
   "metadata": {},
   "outputs": [],
   "source": [
    "def my_naturals(base = 1, inc = 1):\n",
    "    n = base\n",
    "    \n",
    "    while True:\n",
    "        yield n;\n",
    "        n += inc;\n",
    "\n",
    "\n",
    "a = my_naturals();\n",
    "for i in range(10):\n",
    "    print(next(a))\n",
    "\n",
    "print('=====')\n",
    "\n",
    "a = my_naturals(4, 3);\n",
    "for i in range(10):\n",
    "    print(next(a))"
   ]
  },
  {
   "cell_type": "markdown",
   "id": "12b9d241",
   "metadata": {},
   "source": [
    "**Задание 14.3.2**\n",
    "Задание на самопроверку.\n",
    "\n",
    "Создайте генератор цикла, то есть в функцию на входе будет передаваться массив, например, [1, 2, 3], генератор будет вечно работать возвращая 1 2 3 1 2 3… и так далее."
   ]
  },
  {
   "cell_type": "code",
   "execution_count": null,
   "id": "a367dd46",
   "metadata": {},
   "outputs": [],
   "source": [
    "def list_expander(L: list):\n",
    "    i = 0\n",
    "    while True:\n",
    "        yield L[i]\n",
    "        i = i + 1 if i < (len(L) - 1) else 0\n",
    "\n",
    "\n",
    "a = list_expander([5, 4, 3, 2, 1])\n",
    "for i in range(10):\n",
    "    print(next(a))"
   ]
  },
  {
   "cell_type": "markdown",
   "id": "32e13acf",
   "metadata": {},
   "source": []
  },
  {
   "cell_type": "code",
   "execution_count": null,
   "id": "282288ed",
   "metadata": {},
   "outputs": [],
   "source": []
  }
 ],
 "metadata": {
  "kernelspec": {
   "display_name": "Python 3 (ipykernel)",
   "language": "python",
   "name": "python3"
  },
  "language_info": {
   "codemirror_mode": {
    "name": "ipython",
    "version": 3
   },
   "file_extension": ".py",
   "mimetype": "text/x-python",
   "name": "python",
   "nbconvert_exporter": "python",
   "pygments_lexer": "ipython3",
   "version": "3.10.6"
  }
 },
 "nbformat": 4,
 "nbformat_minor": 5
}
