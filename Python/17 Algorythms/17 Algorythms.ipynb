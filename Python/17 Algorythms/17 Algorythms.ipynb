{
 "cells": [
  {
   "cell_type": "markdown",
   "id": "9980051c",
   "metadata": {},
   "source": [
    "## Задание 17.2.3\n",
    "\n",
    "Во сколько раз (примерно) возрастет время работы алгоритма сложностью O(n^2) по сравнению с O(n*log(n)) на входных данных размера n=10000? Ответ округлите до целого. Помните также, что логарифм берется по основанию 2."
   ]
  },
  {
   "cell_type": "code",
   "execution_count": 34,
   "id": "5d93594f",
   "metadata": {},
   "outputs": [
    {
     "name": "stdout",
     "output_type": "stream",
     "text": [
      "n^2 = 100000000,\n",
      "n * log(n, 2) = 132877.12,\n",
      "n^2 / (n * log(n, 2)) = 752.57\n"
     ]
    }
   ],
   "source": [
    "from math import log\n",
    "\n",
    "n = 10000\n",
    "a = n ** 2\n",
    "b = n * log(n, 2)\n",
    "\n",
    "print('n^2 = %5d,' % a)\n",
    "print('n * log(n, 2) = %.2f,' % b)\n",
    "print('n^2 / (n * log(n, 2)) = %.2f' % (a / b))"
   ]
  },
  {
   "cell_type": "markdown",
   "id": "e1e170e1",
   "metadata": {},
   "source": [
    "## Задание 17.4.1\n",
    "Задание на самопроверку.\n",
    "\n",
    "Пусть есть рекурсивная функция p(n). Мы вызываем её с аргументом p(5), она вызывает p(4), та, в свою очередь, снова уменьшает аргумент, и так до нуля. Однако вычисления будут происходить наоборот! Сначала вычисляется p(0), затем p(1) доходя до самого первого вызова функции.\n",
    "\n",
    "Убедитесь в этом самостоятельно, написав функцию p(n), вызывающую эту же самую функцию с аргументом, уменьшенным на единицу, и после чего печатающую значение аргумента. Обратите внимание на описанный порядок действий и наличие условие выхода из рекурсии."
   ]
  },
  {
   "cell_type": "code",
   "execution_count": 9,
   "id": "06255548",
   "metadata": {},
   "outputs": [
    {
     "name": "stdout",
     "output_type": "stream",
     "text": [
      "Started calculation fn(10)\n",
      "| Started calculation fn(9)\n",
      "| | Started calculation fn(8)\n",
      "| | | Started calculation fn(7)\n",
      "| | | | Started calculation fn(6)\n",
      "| | | | | Started calculation fn(5)\n",
      "| | | | | | Started calculation fn(4)\n",
      "| | | | | | | Started calculation fn(3)\n",
      "| | | | | | | | Started calculation fn(2)\n",
      "| | | | | | | | | Started calculation fn(1)\n",
      "| | | | | | | | | | Started calculation fn(0)\n",
      "| | | | | | | | | | Done calculation fn(0)\n",
      "| | | | | | | | | Done calculation fn(1)\n",
      "| | | | | | | | Done calculation fn(2)\n",
      "| | | | | | | Done calculation fn(3)\n",
      "| | | | | | Done calculation fn(4)\n",
      "| | | | | Done calculation fn(5)\n",
      "| | | | Done calculation fn(6)\n",
      "| | | Done calculation fn(7)\n",
      "| | Done calculation fn(8)\n",
      "| Done calculation fn(9)\n",
      "Done calculation fn(10)\n",
      "Result of fn(10) = 55\n"
     ]
    }
   ],
   "source": [
    "def fn(x: int, tab=0) -> int:\n",
    "    if tab:\n",
    "        print('| ' * tab, end = '')\n",
    "    print('Started calculation fn(%1d)' % x)\n",
    "\n",
    "    if x < 0:\n",
    "        result = int(x) + fn(int(x) + 1, tab = tab + 1)\n",
    "    elif x < 1:\n",
    "        result = 0\n",
    "    else:\n",
    "        result = int(x) + fn(int(x) - 1, tab = tab + 1)\n",
    "\n",
    "    if tab:\n",
    "        print('| ' * tab, end = '')\n",
    "    print('Done calculation fn(%1d)' % x)\n",
    "    \n",
    "    return result\n",
    "\n",
    "\n",
    "x = 10\n",
    "print('Result of fn(%1d) =' % x, fn(x))"
   ]
  },
  {
   "cell_type": "markdown",
   "id": "a20d8213",
   "metadata": {},
   "source": [
    "## Задание 17.4.5\n",
    "Задание на самопроверку.\n",
    "\n",
    "Модифицируйте функцию проверки баланса скобок для двух видов скобок: круглых и квадратных.\n",
    "\n",
    "Для реализации такого алгоритма может быть полезным создание словаря, в котором закрывающая скобка — ключ, открывающая — значение."
   ]
  },
  {
   "cell_type": "code",
   "execution_count": 21,
   "id": "51b210d6",
   "metadata": {},
   "outputs": [
    {
     "name": "stdout",
     "output_type": "stream",
     "text": [
      "The string: is invalid at char 51:\n",
      "   def par_checker(string: str) -> bool:\n",
      ">  brackets = {' -->>>)<<<--': '(', '}': '{', ']': '[', '>': '<'}\n",
      "   stack = [] # инициализируем стек\n",
      "       \n",
      "   for s in string: # читаем строку посимвольно\n",
      "       if s in brackets.values(): # если открывающая скобка, \n",
      "           stack.append(s) # добавляем её в стек\n",
      "       elif brackets[s]:\n",
      "           # если встретилась закрывающая скобка, то проверяем\n",
      "           # пуст ли стек и является ли верхний элемент — открывающей скобкой\n",
      "           if len(stack) > 0 and stack[-1] == brakets[s]:\n",
      "               stack.pop() # удаляем из стека\n",
      "           else: # иначе завершаем функцию с False\n",
      "               return False\n",
      "   # если стек пустой, то незакрытых скобок не осталось\n",
      "   # значит, возвращаем True, иначе — False\n",
      "   return len(stack) == 0\n"
     ]
    }
   ],
   "source": [
    "def pair_check(string: str) -> int:\n",
    "    brackets = {')': '(', '}': '{', ']': '['}\n",
    "    stack = [] # инициализируем стек\n",
    "    line = 0\n",
    "    \n",
    "    for i in range(len(string)): # читаем строку посимвольно\n",
    "        s = string[i]\n",
    "        if s == '\\n':\n",
    "            line += 1\n",
    "        if s in brackets.values(): # если открывающая скобка, \n",
    "            stack.append(s) # добавляем её в стек\n",
    "        elif s in brackets.keys():\n",
    "            # если встретилась закрывающая скобка, то проверяем\n",
    "            # пуст ли стек и является ли верхний элемент — открывающей скобкой\n",
    "            if len(stack) and stack[-1] == brackets[s]:\n",
    "                stack.pop() # удаляем из стека\n",
    "            else: # иначе завершаем функцию с False\n",
    "                return i\n",
    "    # если стек пустой, то незакрытых скобок не осталось\n",
    "    # значит, возвращаем True, иначе — False\n",
    "    if len(stack):\n",
    "        return -1\n",
    "    else:\n",
    "        return 0\n",
    "\n",
    "\n",
    "s = '''def par_checker(string: str) -> bool:\n",
    "brackets = {')': '(', '}': '{', ']': '[', '>': '<'}\n",
    "stack = [] # инициализируем стек\n",
    "    \n",
    "for s in string: # читаем строку посимвольно\n",
    "    if s in brackets.values(): # если открывающая скобка, \n",
    "        stack.append(s) # добавляем её в стек\n",
    "    elif brackets[s]:\n",
    "        # если встретилась закрывающая скобка, то проверяем\n",
    "        # пуст ли стек и является ли верхний элемент — открывающей скобкой\n",
    "        if len(stack) > 0 and stack[-1] == brakets[s]:\n",
    "            stack.pop() # удаляем из стека\n",
    "        else: # иначе завершаем функцию с False\n",
    "            return False\n",
    "# если стек пустой, то незакрытых скобок не осталось\n",
    "# значит, возвращаем True, иначе — False\n",
    "return len(stack) == 0'''\n",
    "print('The string:', end = ' ')\n",
    "chk = pair_check(s)\n",
    "if not chk:\n",
    "    print('is valid')\n",
    "elif chk > 0:\n",
    "    print('is invalid at char %1d:' % chk)\n",
    "    for i in range(len(s)):\n",
    "        if i == 0 or s[i - 1] == '\\n': # if new line or the 1st symbol, print '> ' or '  '\n",
    "            if i <= chk and (s.find('\\n') < 0 or s[i:].find('\\n') > (chk - i)):\n",
    "                print('> ', s[i], end = '')\n",
    "            else:\n",
    "                print('  ', s[i], end = '')\n",
    "        elif i == chk:\n",
    "            print(' -->>>' + s[i] + '<<<--', end = '')\n",
    "        else:\n",
    "            print(s[i], end = '')\n",
    "    print()\n",
    "else:\n",
    "    print('has missing closing bracket(s):')\n",
    "    print(s)"
   ]
  },
  {
   "cell_type": "markdown",
   "id": "08e54a09",
   "metadata": {},
   "source": [
    "Для **очереди** можно определить несколько операций:\n",
    "\n",
    "- Вставка элемента в хвост очереди (`push`).\n",
    "- Получение элемента из начала очереди (`top`).\n",
    "- Удаление элемента из начала очереди (`pop`).\n",
    "- Проверка наличия элементов в очереди (`is_empty`).\n",
    "- Получение размера очереди (`size`).\n",
    "\n",
    "Все они выполняются за O(1). И это то, что нужно!\n",
    "\n",
    "Попробуем создать обработчик задач на бесконечном цикле с использованием очереди:"
   ]
  },
  {
   "cell_type": "code",
   "execution_count": null,
   "id": "9ed28bd7",
   "metadata": {},
   "outputs": [],
   "source": [
    "N_max = int(input(\"Определите размер очереди:\"))\n",
    "\n",
    "queue = [0 for _ in range(N_max)] # инициализируем список с нулевыми элементами\n",
    "order = 0 # будем хранить сквозной номер задачи\n",
    "head = 0 # указатель на начало очереди\n",
    "tail = 0 # указатель на элемент следующий за концом очереди\n",
    "        \n",
    "while True:\n",
    "    cmd = input(\"Введите команду:\")\n",
    "    if cmd == \"empty\": \n",
    "        if is_empty():\n",
    "            print(\"Очередь пустая\")\n",
    "        else:\n",
    "            print(\"В очереди есть задачи\")\n",
    "    elif cmd == \"size\":\n",
    "        print(\"Количество задач в очереди:\", size())\n",
    "    elif cmd == \"add\": \n",
    "        if size() != N_max:\n",
    "            add()\n",
    "        else:\n",
    "            print(\"Очередь переполнена\")\n",
    "    elif cmd == \"show\": \n",
    "        if is_empty():\n",
    "            print(\"Очередь пустая\")\n",
    "        else:\n",
    "            show()\n",
    "    elif cmd == \"do\": \n",
    "        if is_empty():\n",
    "            print(\"Очередь пустая\")\n",
    "        else:\n",
    "            do()\n",
    "    elif cmd == \"exit\": \n",
    "        for _ in range(size()):\n",
    "            do()\n",
    "        print(\"Очередь пустая. Завершение работы\")\n",
    "        break\n",
    "    else:\n",
    "        print(\"Введена неверная команда\")"
   ]
  },
  {
   "cell_type": "markdown",
   "id": "5d4ff9d9",
   "metadata": {},
   "source": [
    "## Задание 17.4.6\n",
    "Задание на самопроверку.\n",
    "\n",
    "Напишите функцию is_empty, которая проверяет наличие элементов в очереди, используя указатели head и tail. Запрещается использование функции len(list_), так как её сложность O(n)."
   ]
  },
  {
   "cell_type": "code",
   "execution_count": 28,
   "id": "e557cc13",
   "metadata": {},
   "outputs": [],
   "source": [
    "def fifo_is_empty():\n",
    "    return head == tail and queue[head] == 0"
   ]
  },
  {
   "cell_type": "markdown",
   "id": "60858d76",
   "metadata": {},
   "source": [
    "## Задание 17.4.7\n",
    "Задание на самопроверку.\n",
    "\n",
    "Напишите функцию size, которая возвращает текущий размер очереди. Учтите, что необходимо рассмотреть несколько случаев: когда очередь пустая, когда очередь полная (какому условию соответствует?), а также отдельное внимание стоит обратить на тот случай, когда хвост очереди переместился в начало списка (закольцевался)."
   ]
  },
  {
   "cell_type": "code",
   "execution_count": 29,
   "id": "5b473c9f",
   "metadata": {},
   "outputs": [],
   "source": [
    "def fifo_size():\n",
    "    if head == tail and queue[head] == 0:\n",
    "        return 0\n",
    "    elif head == tail:\n",
    "        return N_max\n",
    "    elif head < tail:\n",
    "        return tail - head\n",
    "    else:\n",
    "        return tail + N_max - head"
   ]
  },
  {
   "cell_type": "markdown",
   "id": "d46f5bcc",
   "metadata": {},
   "source": [
    "## Задание 17.4.8\n",
    "Задание на самопроверку.\n",
    "\n",
    "Напишите функцию add, которая добавляет задачу в конец очереди. Также учтите, что размер массива ограничен, и при достижении этого предела необходимо перенести указатель в положение 0. Также обратите внимание на области видимости переменных tail и order. После добавления задачи в очередь, она должна вывести уведомление об этом в формате:\n",
    "\n",
    "```\n",
    "\"Задача №1 добавлена\"\n",
    "```"
   ]
  },
  {
   "cell_type": "code",
   "execution_count": 30,
   "id": "e7259898",
   "metadata": {},
   "outputs": [],
   "source": [
    "def fifo_add():\n",
    "    global tail, order\n",
    "    if head == tail and queue[head] > 0:\n",
    "        print('Очередь переполнена')\n",
    "    else:\n",
    "        order += 1\n",
    "        queue[tail] = order\n",
    "        tail = (tail + 1) % N_max\n",
    "        print('Задача №%1d добавлена' % order)"
   ]
  },
  {
   "cell_type": "markdown",
   "id": "54ce6af6",
   "metadata": {},
   "source": [
    "## Задание 17.4.9\n",
    "Задание на самопроверку.\n",
    "\n",
    "Напишите функцию, печатающую информацию о приоритетной задаче в формате:\n",
    "\n",
    "```\n",
    "\"Задача №1 в приоритете\"\n",
    "```"
   ]
  },
  {
   "cell_type": "code",
   "execution_count": 31,
   "id": "1c5e6f63",
   "metadata": {},
   "outputs": [],
   "source": [
    "def fifo_show():\n",
    "    if queue[head] == 0:\n",
    "        print('Задач нет')\n",
    "    else:\n",
    "        print('Задача №%d в приоритете' % queue[head])"
   ]
  },
  {
   "cell_type": "markdown",
   "id": "b5e4d945",
   "metadata": {},
   "source": [
    "## Задание 17.4.10\n",
    "Задание на самопроверку.\n",
    "\n",
    "Напишите функцию, которая печатает в консоль задачу (=выполняет её) и, соответственно, удаляет её из очереди, присваивая ей значение 0. Формат вывода:\n",
    "\n",
    "`\"Задача №1 выполнена\"`"
   ]
  },
  {
   "cell_type": "code",
   "execution_count": 32,
   "id": "c5cba61a",
   "metadata": {},
   "outputs": [],
   "source": [
    "def fifo_do():\n",
    "    global queue, head\n",
    "    if queue[head]:\n",
    "        print('Задача №%d выполнена' % queue[head])\n",
    "        queue[head] = 0\n",
    "        head = (head + 1) % N_max\n",
    "    if queue[head] == 0:\n",
    "        print('Очередь пуста')"
   ]
  },
  {
   "cell_type": "markdown",
   "id": "f8f2d644",
   "metadata": {},
   "source": [
    "## Задание 17.4.11\n",
    "1 point possible (graded)\n",
    "Укажите номера задач, которые выполнятся при завершении работы алгоритма, через запятую, соблюдая порядок выполнения. Команды очереди записываются в следующем порядке (укажите размер очереди не меньше 10):"
   ]
  },
  {
   "cell_type": "code",
   "execution_count": null,
   "id": "0404db13",
   "metadata": {},
   "outputs": [],
   "source": [
    "N_max = int(input(\"Определите размер очереди: \"))\n",
    "\n",
    "queue = [0 for _ in range(N_max)] # инициализируем список с нулевыми элементами\n",
    "order = 0 # будем хранить сквозной номер задачи\n",
    "head = 0 # указатель на начало очереди\n",
    "tail = 0 # указатель на элемент следующий за концом очереди\n",
    "        \n",
    "while True:\n",
    "    cmd = input(\"Введите команду: \")\n",
    "    if cmd == \"empty\": \n",
    "        if fifo_is_empty():\n",
    "            print(\"Очередь пустая\")\n",
    "        else:\n",
    "            print(\"В очереди есть задачи\")\n",
    "    elif cmd == \"size\":\n",
    "        print(\"Количество задач в очереди:\", fifo_size())\n",
    "    elif cmd == \"add\": \n",
    "        if fifo_size() != N_max:\n",
    "            fifo_add()\n",
    "        else:\n",
    "            print(\"Очередь переполнена\")\n",
    "    elif cmd == \"show\": \n",
    "        if fifo_is_empty():\n",
    "            print(\"Очередь пустая\")\n",
    "        else:\n",
    "            fifo_show()\n",
    "    elif cmd == \"do\": \n",
    "        if fifo_is_empty():\n",
    "            print(\"Очередь пустая\")\n",
    "        else:\n",
    "            fifo_do()\n",
    "    elif cmd == \"exit\": \n",
    "        print('-' * 30)\n",
    "        for _ in range(fifo_size()):\n",
    "            fifo_do()\n",
    "        print(\"Завершение работы\")\n",
    "        break\n",
    "    else:\n",
    "        print(\"Введена неверная команда\")"
   ]
  },
  {
   "cell_type": "markdown",
   "id": "b1a395fa",
   "metadata": {},
   "source": [
    "## Задание 17.5.1\n",
    "Задание на самопроверку.\n",
    "\n",
    "Представьте эту часть схемы в виде графа и создайте список смежности, используя словарь.\n",
    "!<img src=\"https://lms.skillfactory.ru/assets/courseware/v1/3ee17ce625d6eb4ad0983c683ebeb625/asset-v1:Skillfactory+QAP+18JUNE2020+type@asset+block/FPW_C4.4_6.jpg\" alt=\"Часть схемы метро СПб\" style=\"max-width:70%; min-width: 250px;\" />"
   ]
  },
  {
   "cell_type": "code",
   "execution_count": 22,
   "id": "90d2b9aa",
   "metadata": {},
   "outputs": [],
   "source": [
    "scheme = {\n",
    "    'Адмиралтейская': {'Садовая': 4},\n",
    "    'Садовая': {'Адмиралтейская': 4, 'Спасская': 3, 'Звенигородская': 5, 'Сенная площадь': 3},\n",
    "    'Звенигородская': {'Садовая': 3, 'Пушкинская': 3},\n",
    "    'Спасская': {'Садовая': 3, 'Достоевская': 4, 'Сенная площадь': 3},\n",
    "    'Достоевская': {'Спасская': 4, 'Владимирская': 3},\n",
    "    'Сенная площадь': {'Садовая': 3, 'Спасская': 3},\n",
    "    'Владимирская': {'Достоевская': 3, 'Пушкинская': 4},\n",
    "    'Пушкинская': {'Звенигородская': 3, 'Владимирская': 4},\n",
    "}"
   ]
  },
  {
   "cell_type": "markdown",
   "id": "2522a5d4",
   "metadata": {},
   "source": [
    "При работе с графами одна из наиболее частых задач — поиск кратчайшего пути от одной вершины к другой. Сейчас мы с вами попытаемся реализовать алгоритм, позволяющий найти его.\n",
    "\n",
    "Он носит название **«алгоритм Дейкстры»**.\n",
    "\n",
    "Его суть заключается в том, чтобы последовательно перебирать вершины одну за другой в поисках кратчайшего пути до этой вершины. Вершину будем называть **предком** для другой, если она идет раньше по пути перемещения по ребрам в графе. Ближайший предок — это предок, имеющий прямую связь (ребро) с рассматриваемой. Рассмотрим этот алгоритм также на примере взвешенного графа станций метро из последней задачи.\n",
    "\n",
    "Для начала нам потребуется дополнительная структура данных для хранения расстояний. Если вершины пронумерованы числами, то можно использовать массив, но т. к. мы имеем проименованные узлы, то удобнее пользоваться словарём."
   ]
  },
  {
   "cell_type": "raw",
   "id": "073e54a3",
   "metadata": {},
   "source": [
    "D = {k : 100 for k in G.keys()}"
   ]
  },
  {
   "cell_type": "markdown",
   "id": "ea950874",
   "metadata": {},
   "source": [
    "Также нам потребуется хранить словарь с булевыми значениями, в котором *True* — если вершина просмотрена, иначе — *False*."
   ]
  },
  {
   "cell_type": "raw",
   "id": "33465423",
   "metadata": {},
   "source": [
    "U = {k : False for k in G.keys()}"
   ]
  },
  {
   "cell_type": "markdown",
   "id": "3a97177c",
   "metadata": {},
   "source": [
    "Далее мы должны пройти циклом из *n* итераций, выбирая вершину с наименьшим *D* среди непросмотренных. Очевидно, что на первой итерации будет выбрана стартовая вершина. Из неё мы должны проверить все вершины, в которые можем перейти, и в *D* записать наименьшее расстояние до них. Пока что мы можем идти только из стартовой вершины, поэтому запишутся именно эти расстояния. Стартовая вершина станет помеченной как уже просмотренная. После чего начнется поиск вершины с минимальным *D* из уже просмотренных (куда можно добраться из стартовой). От неё также будут строиться возможные ребра и проверяться минимум расстояний. И так далее, пока процесс не завершится. Утверждается, что достаточно числа итераций равного количеству вершин. При достижении этого алгоритм завершится корректно."
   ]
  },
  {
   "cell_type": "code",
   "execution_count": 31,
   "id": "91c9c2a1",
   "metadata": {},
   "outputs": [
    {
     "name": "stdout",
     "output_type": "stream",
     "text": [
      "{\n",
      "  'Адмиралтейская': 0,\n",
      "  'Садовая': 4,\n",
      "  'Спасская': 7,\n",
      "  'Сенная площадь': 7,\n",
      "  'Звенигородская': 9,\n",
      "  'Достоевская': 11,\n",
      "  'Пушкинская': 12,\n",
      "  'Владимирская': 14\n",
      "}\n"
     ]
    }
   ],
   "source": [
    "D = {k : 100 for k in scheme.keys()} # расстояния\n",
    "start_k = 'Адмиралтейская' # стартовая вершина\n",
    "D[start_k] = 0 # расстояние от неё до самой себя равно нулю\n",
    "U = {k : False for k in scheme.keys()} # флаги просмотра вершин\n",
    "\n",
    "for _ in range(len(D)):\n",
    "    # выбираем среди непросмотренных наименьшее по расстоянию\n",
    "    min_k = min([k for k in U.keys() if not U[k]], key = lambda x: D[x])\n",
    "#     print('Node', min_k + ':')\n",
    "\n",
    "    for v in scheme[min_k].keys(): # проходимся по всем смежным вершинам\n",
    "        D[v] = min(D[v], D[min_k] + scheme[min_k][v]) # минимум\n",
    "#         print(f'  {v}: {D[v]}')\n",
    "    U[min_k] = True # просмотренную вершину помечаем\n",
    "\n",
    "# sort D by values:\n",
    "D = {k: v for k, v in sorted(D.items(), key = lambda x: x[1])}\n",
    "\n",
    "print('{')\n",
    "for k in D.keys():\n",
    "    print(f'  \\'{k}\\': {D[k]}' + ('' if k == list(D.keys())[-1] else ','))\n",
    "print('}')"
   ]
  },
  {
   "cell_type": "markdown",
   "id": "d6c496c3",
   "metadata": {},
   "source": [
    "В нем отражено кратчайшее расстояние от «Адмиралтейской» до станции, которая задает ключ.\n",
    "\n",
    "Таким образом, мы реализовали тот же самый алгоритм, который использует Яндекс для поиска кратчайшего пути между станциями!\n",
    "\n",
    "Алгоритм Дейкстры можно модифицировать таким образом, что можно определить не только величину пути, но ещё и сами вершины минимального пути.\n",
    "\n",
    "Для этого определим ещё один словарь P, в котором будем для каждой вершины хранить вершину-предок с минимальным расстоянием.\n",
    "\n",
    "`P = {k : None for k in G.keys()}`"
   ]
  },
  {
   "cell_type": "code",
   "execution_count": 73,
   "id": "afdf2e7e",
   "metadata": {},
   "outputs": [
    {
     "name": "stdout",
     "output_type": "stream",
     "text": [
      "Адмиралтейская, Адмиралтейская: 0\n",
      "Адмиралтейская, Садовая: 4\n",
      "Адмиралтейская, Садовая, Спасская: 7\n",
      "Адмиралтейская, Садовая, Сенная площадь: 7\n",
      "Адмиралтейская, Звенигородская: 9\n",
      "Адмиралтейская, Садовая, Спасская, Достоевская: 11\n",
      "Адмиралтейская, Звенигородская, Пушкинская: 12\n",
      "Адмиралтейская, Садовая, Спасская, Достоевская, Владимирская: 14\n"
     ]
    }
   ],
   "source": [
    "# граф станций с расстояниями и пересадками\n",
    "scheme = {\n",
    "    'Адмиралтейская': {'Садовая': [4, 0]},\n",
    "    'Садовая': {'Адмиралтейская': [4, 0], 'Спасская': [3, 1], 'Звенигородская': [5, 0], 'Сенная площадь': [3, 1]},\n",
    "    'Звенигородская': {'Садовая': [3, 0], 'Пушкинская': [3, 1]},\n",
    "    'Спасская': {'Садовая': [3, 1], 'Достоевская': [4, 0], 'Сенная площадь': [3, 1]},\n",
    "    'Достоевская': {'Спасская': [4, 0], 'Владимирская': [3, 1]},\n",
    "    'Сенная площадь': {'Садовая': [3, 1], 'Спасская': [3, 1]},\n",
    "    'Владимирская': {'Достоевская': [3, 1], 'Пушкинская': [4, 0]},\n",
    "    'Пушкинская': {'Звенигородская': [3, 1], 'Владимирская': [4, 0]},\n",
    "}\n",
    "\n",
    "D = {k : 100 for k in scheme.keys()} # расстояния\n",
    "U = {k : False for k in scheme.keys()} # флаги просмотра вершин\n",
    "P = {k : [] for k in scheme.keys()} # Предыдущая вершина с минимальным расстоянием\n",
    "\n",
    "start_k = 'Адмиралтейская' # стартовая вершина\n",
    "D[start_k] = 0 # расстояние от неё до самой себя равно нулю\n",
    "P[start_k] = [start_k]\n",
    "\n",
    "for _ in range(len(D)):\n",
    "    # выбираем среди непросмотренных наименьшее по расстоянию\n",
    "    min_k = min([k for k in U.keys() if not U[k]], key = lambda x: D[x])\n",
    "\n",
    "    for v in scheme[min_k].keys(): # проходимся по всем смежным вершинам\n",
    "        if D[v] > D[min_k] + scheme[min_k][v][0]: # если путь от новой вершины короче\n",
    "            if scheme[min_k][v][1] or P[min_k] and P[min_k][-1] != start_k: # если была пересадка\n",
    "                P[v] = [*P[min_k], min_k] # добавляем путь и предыдущую станцию\n",
    "            else:\n",
    "                P[v] = [*P[min_k]] # иначе добавляем короткий путь, без предыдущей станции\n",
    "            D[v] = D[min_k] + scheme[min_k][v][0] # записываем время пути\n",
    "    U[min_k] = True # просмотренную вершину помечаем\n",
    "\n",
    "# sort D by values:\n",
    "D = {k: v for k, v in sorted(D.items(), key = lambda x: x[1])}\n",
    "\n",
    "for k in D.keys():\n",
    "    print(*P[k], k, sep = ', ', end = ': ')\n",
    "    print(D[k])"
   ]
  },
  {
   "cell_type": "code",
   "execution_count": 129,
   "id": "78922e76",
   "metadata": {},
   "outputs": [
    {
     "name": "stdout",
     "output_type": "stream",
     "text": [
      "{\n",
      ".  2:\n",
      ".  {\n",
      ".  .  7:\n",
      ".  .  {\n",
      ".  .  .  2,\n",
      ".  .  .  6:\n",
      ".  .  .  {\n",
      ".  .  .  .  5,\n",
      ".  .  .  .  11\n",
      ".  .  .  }\n",
      ".  .  },\n",
      ".  .  5:\n",
      ".  .  {\n",
      ".  .  .  None,\n",
      ".  .  .  9:\n",
      ".  .  .  {\n",
      ".  .  .  .  4,\n",
      ".  .  .  .  None\n",
      ".  .  .  }\n",
      ".  .  }\n",
      ".  }\n",
      "}\n",
      "\n"
     ]
    }
   ],
   "source": [
    "class BinaryTree:\n",
    "    def __init__(self, value):\n",
    "        self.value = value\n",
    "        self.left_child = None\n",
    "        self.right_child = None\n",
    "\n",
    "    def insert_left(self, next_value):\n",
    "        if self.left_child is None:\n",
    "            self.left_child = BinaryTree(next_value)\n",
    "        else:\n",
    "            self.left_child = self.left_child.insert_left(next_value)\n",
    "        return self\n",
    "\n",
    "    def insert_right(self, next_value):\n",
    "        if self.right_child is None:\n",
    "            self.right_child = BinaryTree(next_value)\n",
    "        else:\n",
    "            self.right_child = self.right_child.insert_right(next_value)\n",
    "        return self\n",
    "\n",
    "\n",
    "    def String(self, level=0, sep='.  ', end=''):\n",
    "        s = ''\n",
    "        if level == 0:\n",
    "            s += (sep * level) + '{\\n'\n",
    "        if self.left_child is None and self.right_child is None:\n",
    "            s += (sep * (level + 1)) + str(self.value) + end + '\\n'\n",
    "        else:\n",
    "            s += (sep * (level + 1)) + str(self.value) + ':' + '\\n'\n",
    "            s += (sep * (level + 1)) + '{\\n'\n",
    "            if self.left_child is None:\n",
    "                s += (sep * (level + 2)) + 'None,\\n'\n",
    "            else:\n",
    "                s += self.left_child.String(level = level + 1, end=',')\n",
    "            if self.right_child is None:\n",
    "                s += (sep * (level + 2)) + 'None\\n'\n",
    "            else:\n",
    "                s += self.right_child.String(level = level + 1)\n",
    "            s += (sep * (level + 1)) + '}' + end + '\\n'\n",
    "        if level == 0:\n",
    "            s += (sep * level) + '}\\n'\n",
    "        return s\n",
    "\n",
    "\n",
    "# создаём корень и его потомков 2 -> {7, 5}\n",
    "T = BinaryTree(2).insert_left(7).insert_left(2).insert_right(5).insert_right(9)\n",
    "\n",
    "# левое поддерево корня 7 -> {2, 6}\n",
    "T.left_child.insert_right(6).insert_right(11)\n",
    "\n",
    "# правое поддерево предыдущего узла 6 -> {5, 11}\n",
    "T.left_child.right_child.insert_left(5)\n",
    "\n",
    "# левое поддерево предыдущего узла 9 -> {4, }\n",
    "T.right_child.right_child.insert_left(4)\n",
    "\n",
    "\n",
    "print(T.String())"
   ]
  },
  {
   "cell_type": "code",
   "execution_count": null,
   "id": "1e0acdb1",
   "metadata": {},
   "outputs": [],
   "source": []
  }
 ],
 "metadata": {
  "kernelspec": {
   "display_name": "Python 3 (ipykernel)",
   "language": "python",
   "name": "python3"
  },
  "language_info": {
   "codemirror_mode": {
    "name": "ipython",
    "version": 3
   },
   "file_extension": ".py",
   "mimetype": "text/x-python",
   "name": "python",
   "nbconvert_exporter": "python",
   "pygments_lexer": "ipython3",
   "version": "3.10.7"
  }
 },
 "nbformat": 4,
 "nbformat_minor": 5
}
