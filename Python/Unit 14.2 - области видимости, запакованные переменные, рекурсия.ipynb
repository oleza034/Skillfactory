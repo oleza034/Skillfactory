{
 "cells": [
  {
   "cell_type": "markdown",
   "id": "1ece303e",
   "metadata": {},
   "source": [
    "**Задание 14.2.1**\n",
    "Задание на самопроверку.\n",
    "\n",
    "Попробуйте самостоятельно предугадать, что будет напечатано в результате выполнения данного кода, не смотря на ответ, который будет дан дальше."
   ]
  },
  {
   "cell_type": "code",
   "execution_count": null,
   "id": "6fb15963",
   "metadata": {},
   "outputs": [],
   "source": [
    "x = 3\n",
    "\n",
    "\n",
    "def func():\n",
    "   print(x)\n",
    "   x = 5\n",
    "   x += 5\n",
    "   return x\n",
    "\n",
    "\n",
    "print(func())"
   ]
  },
  {
   "cell_type": "markdown",
   "id": "b8d9fd1b",
   "metadata": {},
   "source": [
    "<details><summary><b>Ответ:</b></summary>\n",
    "   <p>\n",
    "Ошибка возникает, потому что Python замечает, что вы пытаетесь распечатать значение локальной (!) переменной х в функции func до её объявления, что и приводит к ошибке, так как х еще не определен.\n",
    "\n",
    "Ещё раз повторим правило, которое было озвучено ранее: область видимости переменной (где она может использоваться) всегда определяется местом, где ей было присвоено значение. То есть переменная х в пятой строке никакого отношения к переменной х в первой строке не имеет. Они просто имеют одинаковые названия, не более чем. Соответственно, переменная х здесь выступает как локальная и никакого отношения к глобальной области не имеет. Интерпретатор начинает проверять локальную область видимости функции func, видит что тут объявлена такая переменная, пытается обратиться к ней, но не может получить её значение, потому что эта переменная получает его в шестой строке.\n",
    "\n",
    "Как обойти это ограничение? Нужно использовать оператор global, который объявляет переменную доступной для блока кода, следующим за оператором. Давайте попробуем использовать глобальную область видимости для исправления нашей ошибки из предыдущего примера:\n",
    "\n",
    "   </p>\n",
    "   <p>\n",
    "\n",
    "```\n",
    "   x = 3\n",
    "\n",
    "   def func():\n",
    "       global x # объявляем, что переменная является глобальной\n",
    "       print(x)\n",
    "       x = 5\n",
    "       x += 5\n",
    "       return x\n",
    "\n",
    "    func()\n",
    "    print(x)\n",
    "```\n",
    "\n",
    "   </p>\n",
    "   <p>\n",
    "Что изменилось здесь? В данном случае с помощью оператора global мы в локальную область видимости помещаем нашу глобальную переменную х.\n",
    "       \n",
    "Хотим обратить ваше внимание на то, что **не нужно менять глобальные переменные внутри функции**. Комьюнити *Python* объявило такую практику очень нежелательной, так как из-за этого исправление кода становится намного сложнее.\n",
    "   </p>\n",
    "</details>"
   ]
  },
  {
   "cell_type": "code",
   "execution_count": null,
   "id": "91a0a9e0",
   "metadata": {},
   "outputs": [],
   "source": [
    "from math import pi\n",
    "\n",
    "print(pi)\n"
   ]
  },
  {
   "cell_type": "markdown",
   "id": "e20bd441",
   "metadata": {},
   "source": [
    "**Задание 14.2.2**\n",
    "Задание на самопроверку.\n",
    "\n",
    "Написать функцию, которая будет перемножать любое количество переданных ей аргументов"
   ]
  },
  {
   "cell_type": "code",
   "execution_count": null,
   "id": "fec6d2b4",
   "metadata": {},
   "outputs": [],
   "source": [
    "def multiplier(*numbers):\n",
    "    result = 1\n",
    "    for i in numbers:\n",
    "        result *= i\n",
    "    return result\n",
    "\n",
    "\n",
    "print(multiplier(2,3,4))"
   ]
  },
  {
   "cell_type": "markdown",
   "id": "203a2d8e",
   "metadata": {},
   "source": [
    "**Задание 14.2.3**\n",
    "Задания на самопроверку.\n",
    "\n",
    "С помощью рекурсивной функции найдите сумму чисел от 1 до n."
   ]
  },
  {
   "cell_type": "code",
   "execution_count": null,
   "id": "cf54d2b4",
   "metadata": {},
   "outputs": [],
   "source": [
    "def mysum(n):\n",
    "    if n == 1:\n",
    "        return 1\n",
    "    else:\n",
    "        return n + mysum(n - 1)\n",
    "    \n",
    "\n",
    "print(mysum(10))"
   ]
  },
  {
   "cell_type": "markdown",
   "id": "759cdb4d",
   "metadata": {},
   "source": [
    "**Задание 14.2.4**\n",
    "С помощью рекурсивной функции разверните строку."
   ]
  },
  {
   "cell_type": "code",
   "execution_count": null,
   "id": "ecf994a6",
   "metadata": {},
   "outputs": [],
   "source": [
    "def reverse(s):\n",
    "    if len(s) > 1:\n",
    "        return reverse(s[1:]) + s[0]\n",
    "    else:\n",
    "        return s\n",
    "    \n",
    "    \n",
    "print(reverse('А роза упала на лапу Азора'))"
   ]
  },
  {
   "cell_type": "markdown",
   "id": "0d52592e",
   "metadata": {},
   "source": [
    "**Задание 14.2.5**\n",
    "Дано натуральное число N. Вычислите сумму его цифр.\n",
    "\n",
    "При решении этой задачи нельзя использовать строки, списки, массивы (ну и циклы, разумеется)."
   ]
  },
  {
   "cell_type": "code",
   "execution_count": null,
   "id": "a4a4c9cd",
   "metadata": {},
   "outputs": [],
   "source": [
    "def digit_sum(n: int):\n",
    "    if n < 0:\n",
    "        return digit_sum(-n)\n",
    "    elif n < 10:\n",
    "        return n\n",
    "    else:\n",
    "        return (n % 10) + digit_sum(n // 10)\n",
    "    \n",
    "    \n",
    "print(digit_sum(15123))"
   ]
  }
 ],
 "metadata": {
  "kernelspec": {
   "display_name": "Python 3 (ipykernel)",
   "language": "python",
   "name": "python3"
  },
  "language_info": {
   "codemirror_mode": {
    "name": "ipython",
    "version": 3
   },
   "file_extension": ".py",
   "mimetype": "text/x-python",
   "name": "python",
   "nbconvert_exporter": "python",
   "pygments_lexer": "ipython3",
   "version": "3.10.6"
  }
 },
 "nbformat": 4,
 "nbformat_minor": 5
}
