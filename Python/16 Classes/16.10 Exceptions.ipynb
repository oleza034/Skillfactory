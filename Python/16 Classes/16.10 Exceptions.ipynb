{
 "cells": [
  {
   "cell_type": "markdown",
   "id": "6fc9f64e",
   "metadata": {},
   "source": [
    "## Дерево стандартных исключений"
   ]
  },
  {
   "cell_type": "raw",
   "id": "c0d29a10",
   "metadata": {},
   "source": [
    "BaseException\n",
    " +-- SystemExit\n",
    " +-- KeyboardInterrupt\n",
    " +-- GeneratorExit\n",
    " +-- Exception\n",
    "  \t+-- StopIteration\n",
    "  \t+-- StopAsyncIteration\n",
    "  \t+-- ArithmeticError\n",
    "  \t|\tFloatingPointError\n",
    "  \t|\tOverflowError\n",
    "  \t|\tZeroDivisionError\n",
    "  \t+-- AssertionError\n",
    "  \t+-- AttributeError\n",
    "  \t+-- BufferError\n",
    "  \t+-- EOFError\n",
    "  \t+-- ImportError\n",
    "  \t|\t+-- ModuleNotFoundError\n",
    "  \t+-- LookupError\n",
    "  \t|\t+-- IndexError\n",
    "  \t|\t+-- KeyError\n",
    "  \t+-- MemoryError\n",
    "  \t+-- NameError\n",
    "  \t|\t+-- UnboundLocalError\n",
    "  \t+-- OSError\n",
    "  \t|\t+-- BlockingIOError\n",
    "  \t|\t+-- ChildProcessError\n",
    "  \t|\t+-- ConnectionError\n",
    "  \t|\t|\t+-- BrokenPipeError\n",
    "  \t|\t|\t+-- ConnectionAbortedError\n",
    "  \t|\t|\t+-- ConnectionRefusedError\n",
    "  \t|\t|\t+-- ConnectionResetError\n",
    "  \t|\t+-- FileExistsError\n",
    "  \t|\t+-- FileNotFoundError\n",
    "  \t|\t+-- InterruptedError\n",
    "  \t|\t+-- IsADirectoryError\n",
    "  \t|\t+-- NotADirectoryError\n",
    "  \t|\t+-- PermissionError\n",
    "  \t|\t+-- ProcessLookupError\n",
    "  \t|\t+-- TimeoutError\n",
    "  \t+-- ReferenceError\n",
    "  \t+-- RuntimeError\n",
    "  \t|\t+-- NotImplementedError\n",
    "  \t|\t+-- RecursionError\n",
    "  \t+-- SyntaxError\n",
    "  \t|\t+-- IndentationError\n",
    "  \t|     \t+-- TabError\n",
    "  \t+-- SystemError\n",
    "  \t+-- TypeError\n",
    "  \t+-- ValueError\n",
    "  \t|\t+-- UnicodeError\n",
    "  \t|     \t+-- UnicodeDecodeError\n",
    "  \t|     \t+-- UnicodeEncodeError\n",
    "  \t|     \t+-- UnicodeTranslateError\n",
    "  \t+-- Warning\n",
    "       \t+-- DeprecationWarning\n",
    "       \t+-- PendingDeprecationWarning\n",
    "       \t+-- RuntimeWarning\n",
    "       \t+-- SyntaxWarning\n",
    "       \t+-- UserWarning\n",
    "       \t+-- FutureWarning\n",
    "       \t+-- ImportWarning\n",
    "       \t+-- UnicodeWarning\n",
    "       \t+-- BytesWarning\n",
    "       \t+-- ResourceWarning"
   ]
  },
  {
   "cell_type": "markdown",
   "id": "ddd16ee7",
   "metadata": {},
   "source": [
    "Как нетрудно было догадаться, исключения представлены определёнными классами, которые в той или иной степени наследуются от `BaseException`.\n",
    "\n",
    "Классы `+-- SystemExit +-- KeyboardInterrupt +-- GeneratorExit` — являются исключениями, которые нельзя поймать, т.к. их возникновение не зависит от выполнения программы. А все, что наследуются от `Exception`, можно отловить и обработать (хорошенько так). Другой вопрос, что некоторые из них возникают очень редко.\n",
    "\n",
    "Здесь главное понять, что ловить в блоке `except` можно не только сам класс, но и его родителя, например:"
   ]
  },
  {
   "cell_type": "code",
   "execution_count": 2,
   "id": "634384c6",
   "metadata": {},
   "outputs": [
    {
     "name": "stdout",
     "output_type": "stream",
     "text": [
      "Hello from arithmetic error\n"
     ]
    }
   ],
   "source": [
    "try:\n",
    "    raise ZeroDivisionError # возбуждаем исключение ZeroDivisionError\n",
    "except ArithmeticError: # ловим его родителя\n",
    "    print(\"Hello from arithmetic error\")"
   ]
  },
  {
   "cell_type": "markdown",
   "id": "b89f9154",
   "metadata": {},
   "source": [
    "Результат:"
   ]
  },
  {
   "cell_type": "raw",
   "id": "31df29fc",
   "metadata": {},
   "source": [
    "Hello from arithmetic error"
   ]
  },
  {
   "cell_type": "markdown",
   "id": "3739e46f",
   "metadata": {},
   "source": [
    "Такой способ отлова будет работать прекрасно. Другое дело, что делать так лучше не стоит, потому что вы рискуете упустить детали. Действуя от обратного, однако, надо быть осторожным. Если, например, надо поймать несколько эксепшенов, то идти следует **вверх** по дереву.\n",
    "\n",
    "Например:"
   ]
  },
  {
   "cell_type": "code",
   "execution_count": 3,
   "id": "822025bb",
   "metadata": {},
   "outputs": [
    {
     "name": "stdout",
     "output_type": "stream",
     "text": [
      "Zero division error\n"
     ]
    }
   ],
   "source": [
    "try:\n",
    "    raise ZeroDivisionError\n",
    "except ZeroDivisionError: # сначала пытаемся поймать наследника\n",
    "    print(\"Zero division error\")\n",
    "except ArithmeticError: # потом ловим потомка\n",
    "    print(\"Arithmetic error\")"
   ]
  },
  {
   "cell_type": "markdown",
   "id": "7334968d",
   "metadata": {},
   "source": [
    "Это всё, что хотелось ещё рассказать о конструкции `try-except`.\n",
    "\n",
    "Если кратко обобщить, то можно сказать так: исключения — это тоже классы. Только поведение их особое: они могут наследоваться; ловить можно как сам класс, так и его родителя (при том в любом колене). В этом случае надо чтобы сначала обрабатывались более конкретные исключения, иначе они могут быть перекрыты их родителями и просто-напросто будут упущены.\n",
    "\n",
    "Иногда может понадобиться написать собственное исключение. Например, вы пишите собственную игру и вам нужно обработать ситуацию, когда ваш персонаж пытается выучить способность, при этом не достигнув нужного уровня. Или пытается положить в уже заполненный инвентарь ещё какой-то предмет.\n",
    "\n",
    "Принцип написания и отлова собственного исключения следующий:"
   ]
  },
  {
   "cell_type": "code",
   "execution_count": 4,
   "id": "28fdee6c",
   "metadata": {},
   "outputs": [
    {
     "name": "stdout",
     "output_type": "stream",
     "text": [
      "message\n"
     ]
    }
   ],
   "source": [
    "class MyException(Exception): # создаём пустой класс – исключения \n",
    "    pass\n",
    " \n",
    "try:\n",
    "    raise MyException(\"message\") # поднимаем наше исключение\n",
    "except MyException as e: # ловим его за хвост как шкодливого котёнка\n",
    "    print(e) # выводим информацию об исключении"
   ]
  },
  {
   "cell_type": "markdown",
   "id": "3849b232",
   "metadata": {},
   "source": [
    "Лучше всего, чтобы исключения были связаны между собой, т.е. наследоваться от общего класса исключения. Если продолжить предыдущий пример, то общим классом был бы `GameplayException` (вспоминаем пример с игрой из прошлого абзаца).\n",
    "\n",
    "Наследуются исключения для того, чтобы можно было, продолжая всё тот же пример, отлавливать отдельно игровые исключения и отдельно исключения, касающееся ресурсов (закончилась оперативная память, место на диске и т.д.).\n",
    "\n",
    "Давайте теперь попробуем построить собственные исключения с наследованием:"
   ]
  },
  {
   "cell_type": "code",
   "execution_count": 5,
   "id": "2e8db5c8",
   "metadata": {},
   "outputs": [
    {
     "name": "stdout",
     "output_type": "stream",
     "text": [
      "message\n"
     ]
    }
   ],
   "source": [
    "class ParentException(Exception): # создаём пустой класс – исключения потомка, наследуемся от exception\n",
    "    pass\n",
    " \n",
    "class ChildException(ParentException): # создаём пустой класс – исключение наследника, наследуемся от ParentException\n",
    "    pass\n",
    " \n",
    "try:\n",
    "    raise ChildException(\"message\") # поднимаем исключение-наследник\n",
    "except ParentException as e: # ловим его родителя\n",
    "    print(e) # выводим информацию об исключении"
   ]
  },
  {
   "cell_type": "markdown",
   "id": "a79051e2",
   "metadata": {},
   "source": [
    "В этом случае мы успешно обработали собственный класс-наследник, хотя он и не является `ParentException`. Просто когда исключение возникает, в каждом блоке `except` по порядку интерпретатор проверяет, является ли исключение наследником или самим классом отлавливаемого исключения, и если да, то выполняет код в `except`.\n",
    "\n",
    "Кстати говоря, класс с самописным исключением не обязательно должен быть пустым. Если вы хотите добавить собственные аргументы в конструктор, дополнительно произвести какие либо операции, то можете спокойно это делать, главное не забыть о нескольких нюансах:"
   ]
  },
  {
   "cell_type": "code",
   "execution_count": 9,
   "id": "60a247c1",
   "metadata": {},
   "outputs": [
    {
     "name": "stdout",
     "output_type": "stream",
     "text": [
      "Errors: error\n",
      "message\n"
     ]
    }
   ],
   "source": [
    "class ParentException(Exception):\n",
    "    def __init__(self, message, error): # допишем к нашему пустому классу конструктор, который будет печатать дополнительно в консоль информацию об ошибке.\n",
    "        super().__init__(message) # помним про вызов конструктора родительского класса\n",
    "        print(f\"Errors: {error}\") # печатаем ошибку\n",
    " \n",
    "class ChildException(ParentException): # создаём пустой класс – исключение наследника, наследуемся от ParentException\n",
    "    def __init__(self, message, error):\n",
    "        super().__init__(message, error)\n",
    "        self.message = message\n",
    " \n",
    "try:\n",
    "    raise ChildException(\"message\", \"error\") # поднимаем исключение-наследник, передаём дополнительный аргумент\n",
    "except ParentException as e:\n",
    "    print(e) # выводим информацию об исключении"
   ]
  },
  {
   "cell_type": "code",
   "execution_count": null,
   "id": "e960c177",
   "metadata": {},
   "outputs": [],
   "source": []
  }
 ],
 "metadata": {
  "kernelspec": {
   "display_name": "Python 3 (ipykernel)",
   "language": "python",
   "name": "python3"
  },
  "language_info": {
   "codemirror_mode": {
    "name": "ipython",
    "version": 3
   },
   "file_extension": ".py",
   "mimetype": "text/x-python",
   "name": "python",
   "nbconvert_exporter": "python",
   "pygments_lexer": "ipython3",
   "version": "3.10.6"
  }
 },
 "nbformat": 4,
 "nbformat_minor": 5
}
