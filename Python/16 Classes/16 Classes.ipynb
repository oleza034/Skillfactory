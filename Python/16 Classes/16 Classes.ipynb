{
 "cells": [
  {
   "cell_type": "code",
   "execution_count": 1,
   "id": "e2ea39be",
   "metadata": {},
   "outputs": [
    {
     "name": "stdout",
     "output_type": "stream",
     "text": [
      "True\n"
     ]
    }
   ],
   "source": [
    "class Product:\n",
    "    def __init__(self, name, category, quantity_in_stock):\n",
    "        self.name = name\n",
    "        self.category = category\n",
    "        self.quantity_in_stock = quantity_in_stock\n",
    "\n",
    "    def is_available(self):\n",
    "        return True if self.quantity_in_stock > 0 else False\n",
    "\n",
    "eggs = Product(\"eggs\", \"food\", 5)\n",
    "print(eggs.is_available())"
   ]
  },
  {
   "cell_type": "code",
   "execution_count": 10,
   "id": "3d989a8f",
   "metadata": {},
   "outputs": [
    {
     "name": "stdout",
     "output_type": "stream",
     "text": [
      "1554583508000: itemViewEvent (0:NynteeXG:MYlskrqZbcmXNSFEJaZIsNVGeDLLpmct)\n",
      "1555296337000: itemViewEvent (0:NynteeXG:MYlskrqZbcmXNSFEJaZIsNVGeDLLpmct)\n",
      "1549461608000: itemBuyEvent (0:NynteeXG:MYlskrqZbcmXNSFEJaZIsNVGeDLLpmct)\n"
     ]
    }
   ],
   "source": [
    "class Event:\n",
    "    def __init__(self, timestamp, event_type, session_id):\n",
    "        self.timestamp = timestamp\n",
    "        self.type = event_type\n",
    "        self.session_id = session_id\n",
    "\n",
    "\n",
    "events = [\n",
    "    {\n",
    "     \"timestamp\": 1554583508000,\n",
    "     \"type\": \"itemViewEvent\",\n",
    "     \"session_id\": \"0:NynteeXG:MYlskrqZbcmXNSFEJaZIsNVGeDLLpmct\",\n",
    "    },\n",
    "    {\n",
    "     \"timestamp\": 1555296337000,\n",
    "     \"type\": \"itemViewEvent\",\n",
    "     \"session_id\": \"0:NynteeXG:MYlskrqZbcmXNSFEJaZIsNVGeDLLpmct\",\n",
    "    },\n",
    "    {\n",
    "     \"timestamp\": 1549461608000,\n",
    "     \"type\": \"itemBuyEvent\",\n",
    "     \"session_id\": \"0:NynteeXG:MYlskrqZbcmXNSFEJaZIsNVGeDLLpmct\",\n",
    "    },\n",
    "]\n",
    "\n",
    "for event in events:\n",
    "    event_obj = Event(timestamp = event.get(\"timestamp\"),\n",
    "                      event_type = event.get(\"type\"),\n",
    "                      session_id = event.get(\"session_id\"))\n",
    "    print(f'{event_obj.timestamp}: {event_obj.type} ({event_obj.session_id})')"
   ]
  },
  {
   "cell_type": "code",
   "execution_count": 11,
   "id": "4cdc5ee5",
   "metadata": {},
   "outputs": [
    {
     "name": "stdout",
     "output_type": "stream",
     "text": [
      "This event means someone has browsed an item.\n",
      "itemViewEvent\n"
     ]
    }
   ],
   "source": [
    "class Event:\n",
    "    def __init__(self, timestamp=0, event_type=\"\", session_id=\"\"):\n",
    "        self.timestamp = timestamp\n",
    "        self.type = event_type\n",
    "        self.session_id = session_id\n",
    "\n",
    "    def init_from_dict(self, event_dict):\n",
    "        self.timestamp = event_dict.get(\"timestamp\")\n",
    "        self.type = event_dict.get(\"type\")\n",
    "        self.session_id = event_dict.get(\"session_id\")\n",
    "\n",
    "    def show_description(self):\n",
    "        print(\"This is generic event.\")\n",
    "\n",
    "\n",
    "class ItemViewEvent(Event):\n",
    "    type = \"itemViewEvent\"\n",
    "\n",
    "    def __init__(self, timestamp=0, session_id=\"\", number_of_views=0):\n",
    "        self.timestamp = timestamp\n",
    "        self.session_id = session_id\n",
    "        self.number_of_views = number_of_views\n",
    "\n",
    "    def show_description(self):\n",
    "        print(\"This event means someone has browsed an item.\")\n",
    "\n",
    "\n",
    "if __name__ == \"__main__\":\n",
    "    test_view_event = ItemViewEvent(timestamp=1549461608000,\n",
    "                                    session_id=\"0:NynteeXG:MYlskrqZbcmXNSFEJaZIsNVGeDLLpmct\",\n",
    "                                    number_of_views=6)\n",
    "    test_view_event.show_description()\n",
    "    print(test_view_event.type)"
   ]
  },
  {
   "cell_type": "code",
   "execution_count": null,
   "id": "73a1ba14",
   "metadata": {},
   "outputs": [],
   "source": []
  }
 ],
 "metadata": {
  "kernelspec": {
   "display_name": "Python 3 (ipykernel)",
   "language": "python",
   "name": "python3"
  },
  "language_info": {
   "codemirror_mode": {
    "name": "ipython",
    "version": 3
   },
   "file_extension": ".py",
   "mimetype": "text/x-python",
   "name": "python",
   "nbconvert_exporter": "python",
   "pygments_lexer": "ipython3",
   "version": "3.10.6"
  }
 },
 "nbformat": 4,
 "nbformat_minor": 5
}
