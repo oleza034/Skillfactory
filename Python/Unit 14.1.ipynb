{
 "cells": [
  {
   "cell_type": "markdown",
   "id": "b22568dd",
   "metadata": {},
   "source": [
    "**Задание 14.1.3**\n",
    "Задание на самопроверку.\n",
    "\n",
    "Напишите функцию, которая проверяет, является ли число n делителем числа a. И выводит на экран соответствующее сообщение, является ли число делителем или нет."
   ]
  },
  {
   "cell_type": "code",
   "execution_count": null,
   "id": "b8679df4",
   "metadata": {
    "scrolled": true
   },
   "outputs": [],
   "source": [
    "def is_divider(n:int, a:int):\n",
    "    '''\n",
    "    returns True if a can be divided by n; otherwise returns False\n",
    "    '''\n",
    "    return not(a % n);\n",
    "\n",
    "print(is_divider(3, 6));"
   ]
  },
  {
   "cell_type": "markdown",
   "id": "7adbffcf",
   "metadata": {},
   "source": [
    "**Задание 14.1.4**\n",
    "Задание на самопроверку.\n",
    "\n",
    "Напишите функцию, которая печатает «обратную лесенку» следующего типа:\n",
    "\n",
    "n = 3\n",
    "\\*\\*\\*\n",
    "\\*\\*\n",
    "\\*\n",
    "\n",
    "n = 4\n",
    "\\*\\*\\*\\*\n",
    "\\*\\*\\*\n",
    "\\*\\*\n",
    "\\*"
   ]
  },
  {
   "cell_type": "code",
   "execution_count": null,
   "id": "9fad7e5b",
   "metadata": {},
   "outputs": [],
   "source": [
    "def reverseLadder(steps: int):\n",
    "    '''\n",
    "    Prints a ladder with defined number of steps\n",
    "    '''\n",
    "    s = '=';\n",
    "    print('n =', steps);\n",
    "    for i in range(steps, 0, -1):\n",
    "        print (s * i);\n",
    "    print('');\n",
    "    \n",
    "\n",
    "reverseLadder(5);\n",
    "reverseLadder(3);\n"
   ]
  },
  {
   "cell_type": "markdown",
   "id": "98ef612e",
   "metadata": {},
   "source": [
    "**Задание 14.1.5**\n",
    "Задание на самопроверку.\n",
    "\n",
    "Напишите функцию, которая будет возвращать количество делителей числа а.\n",
    "\n",
    "Пример ввода: 5\n",
    "\n",
    "Пример вывода программы: 2"
   ]
  },
  {
   "cell_type": "code",
   "execution_count": null,
   "id": "36a875c3",
   "metadata": {},
   "outputs": [],
   "source": [
    "def dividers_count(number: int):\n",
    "    n = 0\n",
    "    for i in range(1, number + 1):\n",
    "        if (number % i) == 0: n += 1;\n",
    "    return n;\n",
    "\n",
    "print(dividers_count(6));\n",
    "print(dividers_count(12));"
   ]
  },
  {
   "cell_type": "markdown",
   "id": "a528564b",
   "metadata": {},
   "source": [
    "**Задание 14.1.6**\n",
    "Задание на самопроверку.\n",
    "\n",
    "Напишите функцию, которая проверяет, является ли данная строка палиндромом или нет, и возвращает результат проверки. Пример:\n",
    "\n",
    "check_palindrome(\"test\")  # False\n",
    "check_palindrome(\"Кит на море не романтик\")  # True"
   ]
  },
  {
   "cell_type": "code",
   "execution_count": null,
   "id": "c4ef5360",
   "metadata": {},
   "outputs": [],
   "source": [
    "def check_palindrome(text: str):\n",
    "    s = text.replace(' ', '').replace('\\n', '').replace(',', '').replace('.', '').lower();\n",
    "    return s == s[::-1]\n",
    "\n",
    "print(check_palindrome('T e\\nst'));\n",
    "print(check_palindrome('Кит на море не романтик'));"
   ]
  },
  {
   "cell_type": "code",
   "execution_count": null,
   "id": "5a1b0956",
   "metadata": {},
   "outputs": [],
   "source": []
  }
 ],
 "metadata": {
  "kernelspec": {
   "display_name": "Python 3 (ipykernel)",
   "language": "python",
   "name": "python3"
  },
  "language_info": {
   "codemirror_mode": {
    "name": "ipython",
    "version": 3
   },
   "file_extension": ".py",
   "mimetype": "text/x-python",
   "name": "python",
   "nbconvert_exporter": "python",
   "pygments_lexer": "ipython3",
   "version": "3.10.6"
  }
 },
 "nbformat": 4,
 "nbformat_minor": 5
}
