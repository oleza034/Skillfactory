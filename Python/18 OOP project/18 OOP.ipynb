{
 "cells": [
  {
   "cell_type": "markdown",
   "id": "10e814bf",
   "metadata": {},
   "source": [
    "**API** (Application programming interface) — это набор публичных свойств и методов для взаимодействия с другими программами, которые могут быть написаны даже на другом языке программирования.\n",
    "\n",
    "Нам пришло в ответ нечто, не похожее на веб-страницу, с тремя случайными текстами.\n",
    "\n",
    "Давайте теперь попробуем прочитать эти же тексты, но не через браузер, а через наш Python-скрипт с помощью библиотеки Requests. Для этого отправим гет-запрос:"
   ]
  },
  {
   "cell_type": "code",
   "execution_count": 1,
   "id": "72312ad7",
   "metadata": {},
   "outputs": [
    {
     "name": "stdout",
     "output_type": "stream",
     "text": [
      "b'<p>Bacon ipsum dolor amet shankle brisket beef ribs flank, filet mignon cow short loin.  Cow tail bacon pork loin, meatball pastrami t-bone sausage burgdoggen beef ribs salami.  Beef ribs ribeye turducken pork.  Ribeye leberkas bacon, turducken capicola beef ribs meatball tongue spare ribs hamburger fatback jerky chislic pig biltong.  Meatball chuck ham hock ball tip brisket flank burgdoggen drumstick pork chop boudin chislic jowl sirloin fatback.  Shoulder ribeye brisket swine filet mignon.</p>\\n<p>Flank cow shank brisket short ribs biltong swine, doner kevin.  Beef ribs ham brisket meatball picanha.  Sausage sirloin filet mignon, buffalo chicken corned beef pork loin pork chop biltong pastrami kevin beef ribs burgdoggen landjaeger pancetta.  Buffalo short ribs spare ribs tenderloin pastrami fatback.  Biltong tenderloin alcatra filet mignon pork chop leberkas bacon flank ham beef ribs porchetta corned beef short loin pork belly.  Swine shankle porchetta pig rump tri-tip.</p>\\n<p>Fatback chuck frankfurter pork belly ground round landjaeger.  Sausage meatball ham hock venison meatloaf alcatra.  Prosciutto chuck tenderloin, short loin fatback pastrami brisket tail beef rump doner meatball jerky frankfurter.  Beef fatback prosciutto, ribeye picanha corned beef spare ribs hamburger porchetta shank kevin cupim short loin t-bone.  Beef andouille boudin burgdoggen bacon shankle filet mignon pig rump flank chicken beef ribs.  Ribeye turducken short ribs ground round venison pork belly jerky cupim prosciutto shankle fatback.  Meatball picanha corned beef ground round shank ham hock flank alcatra ham porchetta t-bone.</p>\\n'\n"
     ]
    }
   ],
   "source": [
    "import requests\n",
    " \n",
    "url = 'https://baconipsum.com/api/?type=all-meat&paras=3&start-with-lorem=1&format=html'\n",
    "r = requests.get(url) # делаем запрос на сервер по переданному адресу\n",
    "print(r.content)"
   ]
  },
  {
   "cell_type": "markdown",
   "id": "75ba070a",
   "metadata": {},
   "source": [
    "Как вы заметили, чтобы получить содержание ответа, надо обратится к полю `content` объекта `response`, который возвращается, когда приходит ответ от сервера через библиотеку *Requests*. У этого объекта на самом деле есть много полей, например, `status_code`, который говорит нам о том, какой вообще ответ пришёл. Давайте поменяем наш код и посмотрим, что программа выведет теперь."
   ]
  },
  {
   "cell_type": "code",
   "execution_count": 2,
   "id": "4e19ace2",
   "metadata": {},
   "outputs": [
    {
     "name": "stdout",
     "output_type": "stream",
     "text": [
      "200\n"
     ]
    }
   ],
   "source": [
    "import requests\n",
    " \n",
    "url = 'https://baconipsum.com/api/?type=all-meat&paras=3&start-with-lorem=1&format=html'\n",
    "r = requests.get(url) # делаем запрос на сервер по переданному адресу\n",
    "print(r.status_code) # узнаем статус полученного ответа"
   ]
  },
  {
   "cell_type": "markdown",
   "id": "1ca7c7bd",
   "metadata": {},
   "source": [
    "Есть несколько категорий ответов, например:\n",
    "\n",
    "- 200, 201, 202 и т. д. — ответы, которые говорят, что с запросом всё хорошо, и ответ приходит правильный, т. е. его можно обрабатывать и как-либо взаимодействовать с ним. На самом деле почти все сервера всегда в ответ шлют именно ответ 200, а не какой-либо другой из этой же категории.\n",
    "- 300, 301 и т. д. — ответы, которые говорят, что вы будете перенаправлены на другой ресурс (не обязательно на этом же сервере).\n",
    "- 400, 401 и т. д. — ответы, которые говорят, что что-то неправильно с запросом. Запрашивается либо несуществующая страница (всем известная 404 ошибка), либо же недостаточно прав для просмотра страницы (403) т. д.\n",
    "- 501, 502 и т. д. — ответы, которые говорят, что с запросом всё хорошо, но вот на сервере что-то сломалось, и поэтому нормальный ответ прийти не может.\n",
    "\n",
    "Более подробно со всеми типами ответов можно ознакомиться здесь.\n",
    "<hr>\n",
    "Информацию с сайта мы можем получать не только в виде HTML, но и формате JSON.\n",
    "\n",
    "*JSON* переводится как *JavaScriptObjectNotation*.\n",
    "\n",
    "Это определённый тип ответов от сервера, который уже содержит только нужную нам информацию, без всяких *HTML*-кодов. По сути своей *JSON* очень похож на структуры данных в *Python* (словари и списки), но, на самом деле, его изначальной целью было сохранять состояние объектов языка *JavaScript* (как нетрудно было догадаться из названия). Давайте посмотрим на *JSON*-ответ, присланный нам с того же самого ресурса. Попробуем с помощью той же библиотеки Requests обращаться по [адресу](https://baconipsum.com/api/?type=meat-and-filler)."
   ]
  },
  {
   "cell_type": "code",
   "execution_count": 4,
   "id": "c931f486",
   "metadata": {},
   "outputs": [
    {
     "name": "stdout",
     "output_type": "stream",
     "text": [
      "b'[\"Elit deserunt duis, t-bone mollit boudin corned beef shoulder leberkas jerky frankfurter.  Strip steak excepteur ullamco nulla pancetta.  Bacon ham hock flank velit aliqua.  Nisi bacon occaecat chuck eiusmod in tail tri-tip chicken non frankfurter turducken swine shank leberkas.\",\"Elit anim dolor, sed cupidatat ribeye sausage hamburger dolore pork chop porchetta ball tip ut salami duis.  Burgdoggen quis pancetta pork occaecat.  Veniam tempor ad cupidatat bacon.  Beef aute sint venison chislic aliquip.  Corned beef andouille nisi culpa, ut jowl aliquip.  Anim ullamco in, cow cupim drumstick fatback eiusmod qui landjaeger biltong voluptate prosciutto rump enim.  Tail exercitation nulla filet mignon esse kielbasa sausage shankle short ribs.\",\"Laborum short loin ball tip deserunt veniam ex, bacon meatball.  Burgdoggen qui consectetur ham hock cupim.  Dolor hamburger consequat ut, landjaeger shankle eiusmod drumstick ex pariatur commodo beef ribs beef esse turkey.  Ground round velit tenderloin pork loin, drumstick in short ribs pork belly shankle.\",\"Ad minim sed pork rump andouille bacon shank meatloaf.  Officia aliquip non turducken chicken.  Leberkas hamburger buffalo deserunt incididunt sirloin exercitation drumstick enim cupidatat pork chop minim frankfurter eu.  Hamburger rump pork loin meatloaf, ham hock chicken dolore turkey ex turducken laborum.\",\"Ribeye capicola elit veniam reprehenderit consectetur ball tip.  Ad kevin cupim culpa.  Beef ribs chicken picanha, short ribs shank laboris frankfurter do et pork quis labore chuck veniam esse.  In ut pork belly ex tenderloin.  Ribeye ut in bacon do shankle.\"]'\n"
     ]
    }
   ],
   "source": [
    "import requests\n",
    "\n",
    "url = 'https://baconipsum.com/api/?type=meat-and-filler'\n",
    "r = requests.get(url) # попробуем поймать json ответ\n",
    "print(r.content)"
   ]
  },
  {
   "cell_type": "markdown",
   "id": "8028b006",
   "metadata": {},
   "source": [
    "Если приглядеться, то здесь можно увидеть нечто похожее на список в *Python*. Однако, чтобы использовать полученный ответ как *Python*-объект, надо воспользоваться дополнительной библиотекой, которая упрощает работу с *JSON*-ответами и может легко переконвертировать ответ от сервера в *Python*-объекты, с которыми удобно работать. Давайте поменяем наш код и превратим данный текст в список, на который он так сильно похож."
   ]
  },
  {
   "cell_type": "code",
   "execution_count": 5,
   "id": "bebceff2",
   "metadata": {},
   "outputs": [
    {
     "name": "stdout",
     "output_type": "stream",
     "text": [
      "<class 'list'>\n",
      "T-bone ham hock ground round fugiat, id in salami  \n",
      "\n",
      "Short ribs minim ham hock dolore mollit pig kielba \n",
      "\n",
      "Cupidatat ground round reprehenderit ribeye nulla  \n",
      "\n",
      "In do magna duis shank, ham hock porchetta jerky f \n",
      "\n",
      "Alcatra kielbasa proident flank fatback biltong in \n",
      "\n"
     ]
    }
   ],
   "source": [
    "import requests\n",
    "import json # импортируем необходимую библиотеку\n",
    " \n",
    "url = 'https://baconipsum.com/api/?type=meat-and-filler'\n",
    "r = requests.get(url)\n",
    "texts = json.loads(r.content) # делаем из полученных байтов python объект для удобной работы\n",
    "print(type(texts)) # проверяем тип сконвертированных данных\n",
    " \n",
    "for text in texts: # выводим полученный текст. Но для того чтобы он влез в консоль оставим только первые 50 символов.\n",
    "    print(text[:50], '\\n')"
   ]
  },
  {
   "cell_type": "markdown",
   "id": "a58f9603",
   "metadata": {},
   "source": [
    "Теперь мы сделали ответ от сервера списком — структурой данных *Python*, с которой гораздо приятнее работать, чем просто с байтами.\n",
    "\n",
    "Давайте посмотрим теперь на ещё один тип возвращаемых значений. Он тоже будет *JSON*, но в данном случае он, скорее, будет похож на словарь.\n",
    "\n",
    "В консоли мы увидим структуру, похожую на словарь. Дело в том, что это не совсем словарь. *JavaScriptObjectNotation* (он же *JSON*) — правило записи *js*-объектов в файл, чтобы сохранять их состояния и затем загружать обратно в программу. В модуле *JSON*, а конкретно, в функции `loads` за нас уже заранее обо всём позаботились. В зависимости от вида полученного, *JSON*-функция сама будет обрабатывать его и возвращать нужный нам объект (список или словарь). Подробнее о самой нотации можно почитать вот здесь.\n",
    "\n",
    "Но хватит лирики. Давайте всё же теперь сделаем его настоящим словарём."
   ]
  },
  {
   "cell_type": "code",
   "execution_count": 8,
   "id": "73263a72",
   "metadata": {},
   "outputs": [
    {
     "name": "stdout",
     "output_type": "stream",
     "text": [
      "<class 'dict'>\n",
      "https://api.github.com/user/following{/target}\n"
     ]
    }
   ],
   "source": [
    "import requests\n",
    "import json\n",
    " \n",
    "url = 'https://api.github.com'\n",
    "r = requests.get(url)\n",
    "d = json.loads(r.content) # делаем из полученных байтов python объект для удобной работы\n",
    " \n",
    "print(type(d))\n",
    "print(d['following_url']) # обращаемся к полученному объекту как к словарю и попробуем напечатать одно из его значений"
   ]
  },
  {
   "cell_type": "markdown",
   "id": "c694ee71",
   "metadata": {},
   "source": [
    "Таким образом мы можем удобно превращать данные, полученные из ответа *JSON*, в объекты структур данных *Python* с помощью библиотеки *JSON*, и удобно работать с ними. В следующем юните разберём более подробно получение данных из больших *HTML* с помощью специальных библиотек для парсинга.\n",
    "\n",
    "Как вы могли заметить, здесь мы использовали только *get*-запросы (применяли функцию `.get()` из библиотеки *requests*). Однако одним из наиболее распространённых запросов, помимо get , является post-запрос. Если же get используется, как правило, для получения данных (например, *JSON*-ответ или *HTML*-код для браузера, как мы уже увидели), то при помощи *post*-запросов отправляются данные для обработки на сервер. Например, чаще всего вместе с post-запросом используются параметры (*data*) для записи каких-либо новых данных в базу данных.\n",
    "\n",
    "Давайте попробуем отправить post-запрос. Здесь мы видим, что запрос отправлен с помощью *Python*-requests и нашей операционной системы (*\"User-Agent\": \"Python-requests/2.7.0 CPython/3.6.6 Windows/10\"*),  а также, приглядевшись, мы можем увидеть и наши параметры (строчка: *\"form\": {\\n \"key\": \"value\"\\n }* ). Обратите внимание, что здесь тип отправляемых нами данных указан как *FORM*, но многие *API*, однако, требуют тип *JSON* в качестве отправляемых данных.\n",
    "\n",
    "Давайте посмотрим, как с помощью уже знакомой нам библиотеки отправить данные в нужном нам формате:"
   ]
  },
  {
   "cell_type": "code",
   "execution_count": 10,
   "id": "e01003d7",
   "metadata": {},
   "outputs": [
    {
     "name": "stdout",
     "output_type": "stream",
     "text": [
      "b'{\\n  \"args\": {}, \\n  \"data\": \"\\\\\"{\\\\\\\\\\\\\"key\\\\\\\\\\\\\": \\\\\\\\\\\\\"value\\\\\\\\\\\\\"}\\\\\"\", \\n  \"files\": {}, \\n  \"form\": {}, \\n  \"headers\": {\\n    \"Accept\": \"*/*\", \\n    \"Accept-Encoding\": \"gzip, deflate\", \\n    \"Content-Length\": \"22\", \\n    \"Content-Type\": \"application/json\", \\n    \"Host\": \"httpbin.org\", \\n    \"User-Agent\": \"python-requests/2.28.1\", \\n    \"X-Amzn-Trace-Id\": \"Root=1-6324590e-1df1a87f7240fee964695dd4\"\\n  }, \\n  \"json\": \"{\\\\\"key\\\\\": \\\\\"value\\\\\"}\", \\n  \"origin\": \"46.138.138.117\", \\n  \"url\": \"https://httpbin.org/post\"\\n}\\n'\n"
     ]
    }
   ],
   "source": [
    "import requests\n",
    "import json\n",
    "\n",
    "data = {'key': 'value'}\n",
    "r = requests.post('https://httpbin.org/post', json=json.dumps(data)) # отправляем пост запрос\n",
    "print(r.content) # содержимое ответа и его обработка происходит так же, как и с гет-запросами, разницы никакой нет"
   ]
  },
  {
   "cell_type": "markdown",
   "id": "e717b2c2",
   "metadata": {},
   "source": [
    "Здесь нас интересует строчка: *\"JSON\": \"{\\\\\"key\\\\\": \\\\\"value\\\\\"}\"* . Из неё мы можем понять, что тип отправленных нами данных был именно *JSON*. Поле *FORM*  теперь пустое, что означает: напрямую никаких данных мы не передавали."
   ]
  },
  {
   "cell_type": "markdown",
   "id": "3ea0c6c2",
   "metadata": {},
   "source": [
    "## Задание 18.2.3\n",
    "\n",
    "Напишите программу, которая отправляет запрос на генерацию случайных текстов (используйте этот [сервис](https://baconipsum.com/api/?type=meat-and-filler)). Выведите первый из сгенерированных текстов."
   ]
  },
  {
   "cell_type": "code",
   "execution_count": 11,
   "id": "606c1418",
   "metadata": {},
   "outputs": [
    {
     "name": "stdout",
     "output_type": "stream",
     "text": [
      "Sirloin ham hock laboris cow, voluptate filet mignon quis minim cupidatat landjaeger leberkas bresaola esse pariatur shoulder.  Ut laboris spare ribs pastrami.  Kielbasa ham veniam bresaola in chicken hamburger consequat, proident shank beef ribs.  Commodo eu ea, tenderloin short ribs irure pig in sausage.  Elit flank anim cupidatat, spare ribs non ut pork belly.  Burgdoggen capicola tri-tip qui chuck consequat andouille bacon.  Meatball pork loin mollit hamburger rump.\n"
     ]
    }
   ],
   "source": [
    "import requests\n",
    "import json\n",
    "\n",
    "url = 'https://baconipsum.com/api/?type=meat-and-filler'\n",
    "r = requests.get(url)\n",
    "d = json.loads(r.content)\n",
    "\n",
    "print(d[0])"
   ]
  },
  {
   "cell_type": "markdown",
   "id": "c0a9cf23",
   "metadata": {},
   "source": [
    "## Парсинг сайтов на примере Python.org\n",
    "В сегодняшнем юните научимся писать простенькие парсеры.\n",
    "\n",
    "**Парсеры** — это специальные программы, которые позволяют собирать информацию с веб-сайтов, не заходя на них через браузер. Т. е., например, если вы захотели составить базу данных товара какого-либо интернет-магазина, то вам не обязательно перемещаться по нему и вручную отбирать все названия, фото товара и ссылки на сам товар. Для этого достаточно написать парсер, который по определённым отличительным признакам в HTML-коде (как правило, это классы или id) будет находить вам нужную информацию.\n",
    "\n",
    "Конкретно в этом туториале мы будем пользоваться библиотекой lxml для парсинга данных. Но перед тем, как писать парсеры, предлагаю посмотреть вам небольшое вступление для лучшего понимания того, с чем будем иметь дело."
   ]
  },
  {
   "cell_type": "code",
   "execution_count": 47,
   "id": "6553d20e",
   "metadata": {},
   "outputs": [
    {
     "name": "stdout",
     "output_type": "stream",
     "text": [
      "['Welcome to Python.org']\n",
      "datetime\tNews header\n",
      "2022-09-12\tPython 3.11.0rc2 is now available\n",
      "2022-09-07\tPython releases 3.10.7, 3.9.14, 3.8.14, and 3.7.14 are now available\n",
      "2022-08-08\tPython 3.11.0rc1 is now available\n",
      "2022-08-02\tPython 3.10.6 is available\n",
      "2022-07-26\tPython 3.11.0b5 is now available\n"
     ]
    }
   ],
   "source": [
    "import requests # импортируем наш знакомый модуль\n",
    "import lxml.html\n",
    "from lxml import etree\n",
    " \n",
    "\n",
    "# get the web page content\n",
    "html = requests.get('https://www.python.org/').content\n",
    "\n",
    "# getting elements tree\n",
    "tree = lxml.html.document_fromstring(html)\n",
    "title = tree.xpath('/html/head/title/text()')\n",
    "# getting elements in news section\n",
    "news = tree.findall('body/div/div[3]/div/section/div[2]/div[1]/div/ul/li')\n",
    "\n",
    "print(title) # выводим полученный заголовок страницы\n",
    "for li in news: # getting each news element\n",
    "    if li is news[0]: # print title for the 1st element\n",
    "        print('datetime\\tNews header')\n",
    "    d = li.find('time')\n",
    "    a = li.find('a')\n",
    "    print(d.get('datetime')[:10], a.text, sep='\\t')"
   ]
  },
  {
   "cell_type": "markdown",
   "id": "586a6468",
   "metadata": {},
   "source": [
    "## Задание 18.4.4\n",
    "Напишите программу, которая будет с помощью парсера lxml доставать текст из тега tag2 следующего HTML:"
   ]
  },
  {
   "cell_type": "raw",
   "id": "a6d151c3",
   "metadata": {},
   "source": [
    "<html>\n",
    " <head> <title> Some title </title> </head>\n",
    " <body>\n",
    "  <tag1> some text\n",
    "     <tag2> MY TEXT </tag2>\n",
    "   </tag1>\n",
    " </body>\n",
    "</html>"
   ]
  },
  {
   "cell_type": "code",
   "execution_count": 45,
   "id": "8c5e20a5",
   "metadata": {},
   "outputs": [
    {
     "name": "stdout",
     "output_type": "stream",
     "text": [
      " MY TEXT \n"
     ]
    }
   ],
   "source": [
    "import lxml.html\n",
    "from lxml import etree\n",
    "\n",
    "s = '''<html>\n",
    " <head> <title> Some title </title> </head>\n",
    " <body>\n",
    "  <tag1> some text\n",
    "     <tag2> MY TEXT </tag2>\n",
    "   </tag1>\n",
    " </body>\n",
    "</html>'''\n",
    "\n",
    "tree = lxml.html.document_fromstring(s)\n",
    "txt = tree.xpath('/html/body/tag1/tag2/text()') \n",
    "\n",
    "print(*txt, sep='\\n')"
   ]
  },
  {
   "cell_type": "markdown",
   "id": "3ae175d3",
   "metadata": {},
   "source": [
    "## 18.5 Кэширование с помощью Redis\n",
    "Теперь давайте попробуем записать данные в кэш. Для этого используется метод .get(<название переменной для кэширования>, <значение переменной в виде строки>)."
   ]
  },
  {
   "cell_type": "code",
   "execution_count": 2,
   "id": "69c20a7e",
   "metadata": {},
   "outputs": [
    {
     "name": "stdout",
     "output_type": "stream",
     "text": [
      "b'value1'\n"
     ]
    }
   ],
   "source": [
    "import redis \n",
    "\n",
    "red = redis.Redis(\n",
    "    host='localhost',\n",
    "    port=6379,\n",
    "    password='RdabtP22'\n",
    ")\n",
    "\n",
    "red.set('key1', 'value1') # записываем в кеш строку \"value1\"\n",
    "print(red.get('key1')) # считываем из кэша данные"
   ]
  },
  {
   "cell_type": "markdown",
   "id": "07d497b5",
   "metadata": {},
   "source": [
    "Давайте теперь попробуем записать в кэш что-нибудь посложнее, например, словарь."
   ]
  },
  {
   "cell_type": "code",
   "execution_count": 8,
   "id": "ecef1a66",
   "metadata": {},
   "outputs": [
    {
     "name": "stdout",
     "output_type": "stream",
     "text": [
      "<class 'dict'>\n",
      "{'key1': 'value1', 'key2': 'value2'}\n"
     ]
    }
   ],
   "source": [
    "import redis\n",
    "import json # так-так-так, кто это тут у нас? Наш старый друг Джейсон заглянул на огонёк! Ну привет, чем ты сегодня нас порадуешь?\n",
    "\n",
    "red = redis.Redis(\n",
    "    host='localhost',\n",
    "    port=6379,\n",
    "    password='RdabtP22'\n",
    ")\n",
    " \n",
    "dict1 = {'key1': 'value1', 'key2': 'value2'} # создаём словарь для записи\n",
    "red.set('dict1', json.dumps(dict1)) # с помощью функции dumps() из модуля json превратим наш словарь в строчку\n",
    "converted_dict = json.loads(red.get('dict1')) # с помощью знакомой нам функции превращаем данные полученные из кэша обратно в словарь\n",
    "print(type(converted_dict)) # убеждаемся, что получили действительно словарь\n",
    "print(converted_dict) # ну и выводим его содержание"
   ]
  },
  {
   "cell_type": "markdown",
   "id": "07dfccdc",
   "metadata": {},
   "source": [
    "Ну и, наконец, давайте научимся удалять данные из кэша по ключу. Это делается совсем просто."
   ]
  },
  {
   "cell_type": "code",
   "execution_count": 9,
   "id": "b47ae4a9",
   "metadata": {},
   "outputs": [
    {
     "name": "stdout",
     "output_type": "stream",
     "text": [
      "None\n"
     ]
    }
   ],
   "source": [
    "import redis\n",
    "\n",
    "red = redis.Redis(\n",
    "    host='localhost',\n",
    "    port=6379,\n",
    "    password='RdabtP22'\n",
    ")\n",
    "\n",
    "red.delete('dict1') # удаляются ключи с помощью метода .delete()\n",
    "print(red.get('dict1'))"
   ]
  },
  {
   "cell_type": "markdown",
   "id": "45127117",
   "metadata": {},
   "source": [
    "Как итог мы видим, что вывелось *None*. Т. е. ключа, который мы добавили, больше нет.\n",
    "\n",
    "## Задание 18.5.4\n",
    "Напишите программу, которая будет записывать и кэшировать номера ваших друзей. Программа должна уметь воспринимать несколько команд: записать номер, показать номер друга в консоли при вводе имени или же удалить номер друга по имени. Кэширование надо производить с помощью Redis. Ввод и вывод информации должен быть реализован через консоль (с помощью функций `input()` и `print()`)."
   ]
  },
  {
   "cell_type": "code",
   "execution_count": 95,
   "id": "d5d5d429",
   "metadata": {},
   "outputs": [
    {
     "name": "stdout",
     "output_type": "stream",
     "text": [
      "Friends database 1.0 at your service\n",
      "Please type command or friend's name: list\n",
      "  Found friends:\n",
      "  1) Марь Ивановна has phone 8 (888) 777-8888\n",
      "  2) Иван Иваныч has phone +7 (999) 888-77-88\n",
      "  Which user do you want to work with? (enter numbers 1..{len(friends)}): \n",
      "Please type command or friend's name: Семён Семёныч\n",
      "  No friends matching Семён Семёныч found\n",
      "  Do you want to add friend Семён Семёныч? - press '1' or '[Y]es': л\n",
      "Please type command or friend's name: Семён Семёныч\n",
      "  No friends matching Семён Семёныч found\n",
      "  Do you want to add friend Семён Семёныч? - press '1' or '[Y]es': д\n",
      "  Please type new phone or hit 'Enter' to not change it: \n",
      "  Phone is empty. Operation aborted.\n",
      "Please type command or friend's name: учше\n",
      "  Goodbye.\n"
     ]
    }
   ],
   "source": [
    "import json\n",
    "import redis\n",
    "\n",
    "host = 'localhost'\n",
    "port = 6379\n",
    "the_key = 'friends18'\n",
    "pw = 'RdabtP22'\n",
    "my_ver = '1.0'\n",
    "\n",
    "\n",
    "def get_friends(name = None) -> dict:\n",
    "    # create connection to Redis database\n",
    "    red = redis.Redis(host = host, port = port, password = pw)\n",
    "    # get friends from DB\n",
    "    try:\n",
    "        friends = json.loads(red.get(the_key))\n",
    "    except (TypeError, json.JSONDecodeError):\n",
    "        friends = {} # if key doesn't exist or is empty, create an empty dict\n",
    "    except Exception as e:\n",
    "        print(type(e), 'occured:')\n",
    "        print(e)\n",
    "        friends = {}\n",
    "\n",
    "    # find friends matching name\n",
    "    if name and friends:\n",
    "        friends = get_correct_friend_name(name, friends)\n",
    "\n",
    "    # print list of friends\n",
    "    if friends:\n",
    "        print('  Found friends:')\n",
    "    elif name:\n",
    "        print(f'  No friends matching {cmd} found')\n",
    "    else:\n",
    "        print('  No friends found')\n",
    "    i = 1\n",
    "    for f in friends:\n",
    "        print(f'  {i}) {f} has phone {friends[f]}')\n",
    "        i += 1\n",
    "\n",
    "    return friends\n",
    "\n",
    "\n",
    "def save_friends(new_friends: dict, merge = False):\n",
    "    # create connection to Redis database\n",
    "    red = redis.Redis(host = host, port = port, password = pw)\n",
    "    if merge:\n",
    "        # get friends from DB\n",
    "    # get friends from DB\n",
    "        try:\n",
    "            friends = json.loads(red.get(the_key))\n",
    "        except (TypeError, json.JSONDecodeError):\n",
    "            friends = {} # if key doesn't exist or is empty, create an empty dict\n",
    "        except Exception as e:\n",
    "            print(type(e), 'occured:')\n",
    "            print(e)\n",
    "            friends = {}\n",
    "#             pass # if key doesn't exist or is empty, do not merge\n",
    "        else:\n",
    "            new_friends = new_friends | friends\n",
    "    # save friends\n",
    "    red.set(the_key, json.dumps(new_friends))\n",
    "\n",
    "\n",
    "def get_correct_friend_name(name: str, friends: dict) -> list:\n",
    "    names = {}\n",
    "    for f in friends.keys():\n",
    "        if f.lower() == name.lower():\n",
    "            names[f] = friends[f]\n",
    "    return names\n",
    "\n",
    "\n",
    "def add_friend(name, phone: None):\n",
    "    save_friends({name: phone}, merge=True)\n",
    "\n",
    "\n",
    "def pop_friends(names):\n",
    "    friends = get_friends()\n",
    "    for f in names:\n",
    "        friends.pop(f)\n",
    "        print(f'  - friend {f} deleted.')\n",
    "    save_friends(friends)\n",
    "\n",
    "\n",
    "print(f'Friends database {my_ver} at your service')\n",
    "cmd = input('Please type command or friend\\'s name: ')\n",
    "while True:\n",
    "    if not cmd:\n",
    "        print('  Please type a command. Use \\'help\\' or \\'?\\' for instructions.')\n",
    "    elif cmd.lower() in ['help', '?', 'рудз']:\n",
    "        print('  Please type friend\\'s name or one of the followind commands (without quotes):')\n",
    "        print('  - \\'list\\' if you want to see all friends')\n",
    "        print('  - \\'exit\\' or \\'quit\\' to terminate the program')\n",
    "        print('  In case you need to remove a record, find friend and press \\'Enter\\' for the new name and phone.')\n",
    "    elif cmd.lower() in ['quit', 'exit', 'stop', 'учше', 'йгше', 'ыещз']:\n",
    "        print('  Goodbye.')\n",
    "        break\n",
    "    else:\n",
    "        if cmd.lower() in ['list', 'дшые']:\n",
    "            friends = get_friends()\n",
    "            cmd = ''\n",
    "        else:\n",
    "            friends = get_friends(cmd)\n",
    "        if len(friends) > 1:\n",
    "            cmd = input(f'  Which user do you want to work with? (enter numbers 1..{len(friends)}): ')\n",
    "            if cmd and cmd.isdigit() and 0 <= (int(cmd) - 1) < len(friends):\n",
    "                friends = {list(friends.keys())[int(cmd) - 1]: friends[list(friends.keys())[int(cmd) - 1]]}\n",
    "            else:\n",
    "                friends = {}\n",
    "        elif len(friends) > 0:\n",
    "            if input(f'  Do you want to work with {list(friends.keys())[0]}? (Y / N): ').lower() not in ['y', 'yes', '1', 'да']:\n",
    "                friends = {}\n",
    "        if len(friends) > 0:\n",
    "            name = input('  Please type new name or hit \\'Enter\\' to not change it: ')\n",
    "            phone = input('  Please type new phone or hit \\'Enter\\' to not change it: ')\n",
    "            if not (name or phone):\n",
    "                print('  WARNING: the following friends will be completely deleted:')\n",
    "                for f in friends:\n",
    "                    print('  -', f, 'with phone', friends[f])\n",
    "                cmd = input('  Please type \\'[Y]es\\' or \\'1\\' to confirm frend\\'s deletion:')\n",
    "                if cmd.lower() in ['yes', 'y', 'да', '1']:\n",
    "                    pop_friends(friends.keys())\n",
    "                else:\n",
    "                    print('  Deletion aborted.')\n",
    "            elif len(friends) == 1:\n",
    "                if not name:\n",
    "                    name = list(friends.keys())[0]\n",
    "                if not phone:\n",
    "                    phone = fiends[list(friends.keys())[0]]\n",
    "                pop_friends([list(friends.keys())[0]])\n",
    "                add_friend(name, phone)\n",
    "            else:\n",
    "                cmd = input('  Please enter the number of friend to change or remove: ')\n",
    "                if cmd.isdigit() and int(cmd) <= len(friends):\n",
    "                    cmd = int(cmd) - 1 # the index of friend\n",
    "                    name = input('  Please type new name or hit \\'Enter\\' to not change it: ')\n",
    "                    phone = input('  Please type new phone or hit \\'Enter\\' to not change it: ')\n",
    "                    if phone and (not name or name == list(friends.keys())[i]):\n",
    "                        friends[list(friends.keys())[cmd]] = phone\n",
    "                    if name:\n",
    "                        if not phone:\n",
    "                            phone = friends[friend.keys()[cmd]]\n",
    "                        pop_friends([list(friends.keys())[cmd]])\n",
    "                        add_friend(name, phone)\n",
    "                    elif not phone:\n",
    "                        print('  The following friends will be completely deleted:')\n",
    "                        print(f'  - {list(friends.keys())[cmd]} with phone: {friends[list(friends.keys())[cmd]]}')\n",
    "                        cmd = input('  Please type \\'[Y]es\\' or \\'1\\' to confirm frend\\'s deletion:')\n",
    "                        if cmd.lower() in ['yes', 'y', 'да', '1']:\n",
    "                            pop_friends(friends.keys())\n",
    "                else:\n",
    "                    print('  Operation aborted.')\n",
    "            cmd = 'list' # change command to not be empty\n",
    "        elif cmd:\n",
    "            if input('  Do you want to add friend ' + cmd + '? - press \\'1\\' or \\'[Y]es\\': ').lower() in ['1', 'y', 'yes', 'да', 'д']:\n",
    "                phone = input('  Please type new phone or hit \\'Enter\\' to not change it: ')\n",
    "                if not phone:\n",
    "                    print('  Phone is empty. Operation aborted.')\n",
    "                else:\n",
    "                    add_friend(cmd, phone)\n",
    "                    print(f'  Friend \\'{cmd}\\' with phone \\'{phone}\\' added.')\n",
    "\n",
    "    cmd = input('Please type command or friend\\'s name: ')\n"
   ]
  },
  {
   "cell_type": "code",
   "execution_count": 91,
   "id": "f282fad2",
   "metadata": {},
   "outputs": [
    {
     "name": "stdout",
     "output_type": "stream",
     "text": [
      "<class 'list'>\n"
     ]
    }
   ],
   "source": [
    "print(type(list({}.keys())))"
   ]
  },
  {
   "cell_type": "code",
   "execution_count": null,
   "id": "ff2a0242",
   "metadata": {},
   "outputs": [],
   "source": []
  }
 ],
 "metadata": {
  "kernelspec": {
   "display_name": "Python 3 (ipykernel)",
   "language": "python",
   "name": "python3"
  },
  "language_info": {
   "codemirror_mode": {
    "name": "ipython",
    "version": 3
   },
   "file_extension": ".py",
   "mimetype": "text/x-python",
   "name": "python",
   "nbconvert_exporter": "python",
   "pygments_lexer": "ipython3",
   "version": "3.10.7"
  }
 },
 "nbformat": 4,
 "nbformat_minor": 5
}
