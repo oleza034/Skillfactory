{
 "cells": [
  {
   "cell_type": "code",
   "execution_count": 1,
   "id": "2e9d59cb-ccc3-4eb1-91be-cb851a4190e9",
   "metadata": {},
   "outputs": [
    {
     "name": "stdout",
     "output_type": "stream",
     "text": [
      "[89, 144]\n"
     ]
    }
   ],
   "source": [
    "def fib(n):\n",
    "    f1 = f2 = 1\n",
    "    \n",
    "    for i in range(n):\n",
    "        f1, f2 = f2, f1 + f2\n",
    "        \n",
    "    return [f1, f2]\n",
    "\n",
    "\n",
    "print(fib(10))"
   ]
  },
  {
   "cell_type": "code",
   "execution_count": 2,
   "id": "7f54f91e",
   "metadata": {},
   "outputs": [
    {
     "name": "stdin",
     "output_type": "stream",
     "text": [
      "Input pass:  1234\n"
     ]
    },
    {
     "name": "stdout",
     "output_type": "stream",
     "text": [
      "wrong input. "
     ]
    },
    {
     "name": "stdin",
     "output_type": "stream",
     "text": [
      "Input pass:  world\n"
     ]
    },
    {
     "name": "stdout",
     "output_type": "stream",
     "text": [
      "good\n"
     ]
    }
   ],
   "source": [
    "password_array = ['hello', 'world']\n",
    "while user_pass := input('Input pass: ') not in password_array:\n",
    "    print('wrong input.', end = ' ')\n",
    "else:\n",
    "    print('good')"
   ]
  },
  {
   "cell_type": "code",
   "execution_count": 5,
   "id": "9ac04172",
   "metadata": {},
   "outputs": [
    {
     "name": "stdout",
     "output_type": "stream",
     "text": [
      "5050\n"
     ]
    }
   ],
   "source": [
    "# sum_number = 0\n",
    "\n",
    "# for x in range(101):\n",
    "#     sum_number += x\n",
    "    \n",
    "# print(sum_number)\n",
    "\n",
    "# THE SAME:\n",
    "\n",
    "print(sum(range(101)))"
   ]
  },
  {
   "cell_type": "code",
   "execution_count": 9,
   "id": "a7a3da21",
   "metadata": {},
   "outputs": [
    {
     "name": "stdout",
     "output_type": "stream",
     "text": [
      "3628800\n"
     ]
    }
   ],
   "source": [
    "# факториал\n",
    "factorial = 1\n",
    "\n",
    "for i in range(1, 11):\n",
    "    factorial *= i\n",
    "\n",
    "print(factorial)"
   ]
  },
  {
   "cell_type": "code",
   "execution_count": 17,
   "id": "3ed494a9",
   "metadata": {},
   "outputs": [
    {
     "name": "stdout",
     "output_type": "stream",
     "text": [
      "\n",
      "*\n",
      "**\n",
      "***\n",
      "****\n",
      "*****\n",
      "******\n",
      "*******\n",
      "********\n",
      "*********\n"
     ]
    }
   ],
   "source": [
    "# Ёлочка\n",
    "\n",
    "l = 10\n",
    "\n",
    "for x in range(l):\n",
    "    print('*'*x)"
   ]
  },
  {
   "cell_type": "code",
   "execution_count": null,
   "id": "99d4169c",
   "metadata": {},
   "outputs": [
    {
     "name": "stdout",
     "output_type": "stream",
     "text": [
      "          \n",
      "         *\n",
      "        **\n",
      "       ***\n",
      "      ****\n",
      "     *****\n",
      "    ******\n",
      "   *******\n",
      "  ********\n",
      " *********\n"
     ]
    }
   ],
   "source": [
    "# обратная ёлочка\n",
    "\n",
    "l = 10\n",
    "\n",
    "for x in range(l):\n",
    "    print((' ' * (l - x) + '*' * x))"
   ]
  },
  {
   "cell_type": "code",
   "execution_count": 10,
   "id": "ecaa658b-29c8-44cd-8aa9-579dc8c086fd",
   "metadata": {},
   "outputs": [
    {
     "name": "stdout",
     "output_type": "stream",
     "text": [
      "         *\n",
      "        ***\n",
      "       *****\n",
      "      *******\n",
      "     *********\n",
      "    ***********\n",
      "   *************\n",
      "  ***************\n",
      " *****************\n",
      "*******************\n"
     ]
    }
   ],
   "source": [
    "for x in range(1, 11):\n",
    "    print(' ' * (10 - x) + '*' * (2 * x - 1))"
   ]
  },
  {
   "cell_type": "code",
   "execution_count": 6,
   "id": "328591bd-028a-47cb-a64f-1b49a25b960b",
   "metadata": {},
   "outputs": [
    {
     "name": "stdout",
     "output_type": "stream",
     "text": [
      "**********\n",
      "*********\n",
      "********\n",
      "*******\n",
      "******\n",
      "*****\n",
      "****\n",
      "***\n",
      "**\n",
      "*\n"
     ]
    }
   ],
   "source": [
    "for x in range(10, 0, -1):\n",
    "    print('*' * x)"
   ]
  },
  {
   "cell_type": "code",
   "execution_count": 8,
   "id": "768eb877-3f30-40f2-94ab-7a86eee71645",
   "metadata": {},
   "outputs": [
    {
     "name": "stdout",
     "output_type": "stream",
     "text": [
      "**********\n",
      " *********\n",
      "  ********\n",
      "   *******\n",
      "    ******\n",
      "     *****\n",
      "      ****\n",
      "       ***\n",
      "        **\n",
      "         *\n"
     ]
    }
   ],
   "source": [
    "for x in range(10, 0, -1):\n",
    "    print(' ' * (10 - x) + '*' * x)"
   ]
  },
  {
   "cell_type": "code",
   "execution_count": 11,
   "id": "37d3c1e0-4656-45be-a0a9-91d829e740da",
   "metadata": {},
   "outputs": [
    {
     "name": "stdout",
     "output_type": "stream",
     "text": [
      "*******************\n",
      " *****************\n",
      "  ***************\n",
      "   *************\n",
      "    ***********\n",
      "     *********\n",
      "      *******\n",
      "       *****\n",
      "        ***\n",
      "         *\n"
     ]
    }
   ],
   "source": [
    "for x in range(10):\n",
    "    print(' ' * x + '*' * (2 * (10 - x) - 1))"
   ]
  },
  {
   "cell_type": "code",
   "execution_count": 19,
   "id": "e71f7bf1",
   "metadata": {},
   "outputs": [
    {
     "name": "stdout",
     "output_type": "stream",
     "text": [
      "0\n",
      "2\n",
      "4\n",
      "6\n",
      "8\n"
     ]
    }
   ],
   "source": [
    "for x in range(10):\n",
    "    if not x % 2:\n",
    "        print(x)"
   ]
  },
  {
   "cell_type": "code",
   "execution_count": 12,
   "id": "178dc260",
   "metadata": {},
   "outputs": [
    {
     "name": "stdout",
     "output_type": "stream",
     "text": [
      "0\n",
      "2\n",
      "4\n",
      "6\n",
      "8\n"
     ]
    }
   ],
   "source": [
    "L = [print(x) if not x % 2 else '' for x in range(10)]"
   ]
  },
  {
   "cell_type": "code",
   "execution_count": 24,
   "id": "378697ab",
   "metadata": {},
   "outputs": [
    {
     "name": "stdout",
     "output_type": "stream",
     "text": [
      "1\n",
      "2\n",
      "1\n",
      "2\n",
      "1\n",
      "2\n"
     ]
    }
   ],
   "source": [
    "# рассчитайтесь на 1 - 2\n",
    "\n",
    "for x in range(6):\n",
    "    if x % 2:\n",
    "        print(2)\n",
    "    else:\n",
    "        print(1)"
   ]
  },
  {
   "cell_type": "code",
   "execution_count": 25,
   "id": "56577cdc",
   "metadata": {},
   "outputs": [
    {
     "name": "stdout",
     "output_type": "stream",
     "text": [
      "1\n",
      "2\n",
      "1\n",
      "2\n",
      "1\n",
      "2\n"
     ]
    }
   ],
   "source": [
    "# рассчитайтесь на 1 - 2\n",
    "\n",
    "for x in range(6):\n",
    "    print(x % 2 + 1)"
   ]
  },
  {
   "cell_type": "code",
   "execution_count": 28,
   "id": "22f5d78b",
   "metadata": {},
   "outputs": [
    {
     "name": "stdout",
     "output_type": "stream",
     "text": [
      "[2, 6, 8]\n"
     ]
    }
   ],
   "source": [
    "s = [2, 4, 6, 8, 10]\n",
    "\n",
    "for x in s:\n",
    "    if s.index(x) % 2:\n",
    "        s.remove(x)\n",
    "        # результат: [2, 6, 8] вместо [2, 6, 10].\n",
    "        # Поэтому во время цикла нельзя удалять элементы, на которые он ссылается!\n",
    "\n",
    "print(s)"
   ]
  },
  {
   "cell_type": "code",
   "execution_count": 29,
   "id": "6cec7e28",
   "metadata": {},
   "outputs": [],
   "source": [
    "# нечитаемая строка. Так писать НЕЛЬЗЯ!\n",
    "\n",
    "def short(objects: list) -> list:\n",
    "    return[[str(field)[0:45] + '...' if (len(str(field)) > 45) else field for field in object] for object in objects]\n",
    "\n",
    "# ещё плохой пример: нельзя менять глобальные переменные внутри функции\n",
    "\n",
    "global s = 100\n",
    "\n",
    "def my_func():\n",
    "    s += 100\n",
    "    # side-efects\n",
    "    \n",
    "# плохой пример: функция выполняет разные вещи. Её надо разбить на 2 функции:\n",
    "\n",
    "s = 100\n",
    "\n",
    "def my_func():\n",
    "    if type(x) == str:\n",
    "        return x[0:10]\n",
    "    else:\n",
    "        x += 100\n",
    "        return x\n",
    "    \n"
   ]
  },
  {
   "cell_type": "code",
   "execution_count": null,
   "id": "9b8149dd",
   "metadata": {},
   "outputs": [],
   "source": []
  }
 ],
 "metadata": {
  "kernelspec": {
   "display_name": "Python 3 (ipykernel)",
   "language": "python",
   "name": "python3"
  },
  "language_info": {
   "codemirror_mode": {
    "name": "ipython",
    "version": 3
   },
   "file_extension": ".py",
   "mimetype": "text/x-python",
   "name": "python",
   "nbconvert_exporter": "python",
   "pygments_lexer": "ipython3",
   "version": "3.10.6"
  }
 },
 "nbformat": 4,
 "nbformat_minor": 5
}
