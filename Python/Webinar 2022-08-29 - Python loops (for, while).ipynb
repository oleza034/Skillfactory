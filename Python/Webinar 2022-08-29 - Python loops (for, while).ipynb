{
 "cells": [
  {
   "cell_type": "code",
   "execution_count": 3,
   "id": "7f54f91e",
   "metadata": {},
   "outputs": [
    {
     "name": "stdout",
     "output_type": "stream",
     "text": [
      "Input pass: 1234\n",
      "wrong input. Input pass: 12357\n",
      "wrong input. Input pass: Hello\n",
      "wrong input. Input pass: hello\n",
      "good\n"
     ]
    }
   ],
   "source": [
    "password_array = ['hello', 'world']\n",
    "while user_pass := input('Input pass: ') not in password_array:\n",
    "    print('wrong input.', end = ' ')\n",
    "else:\n",
    "    print('good')"
   ]
  },
  {
   "cell_type": "code",
   "execution_count": 5,
   "id": "9ac04172",
   "metadata": {},
   "outputs": [
    {
     "name": "stdout",
     "output_type": "stream",
     "text": [
      "5050\n"
     ]
    }
   ],
   "source": [
    "# sum_number = 0\n",
    "\n",
    "# for x in range(101):\n",
    "#     sum_number += x\n",
    "    \n",
    "# print(sum_number)\n",
    "\n",
    "# THE SAME:\n",
    "\n",
    "print(sum(range(101)))"
   ]
  },
  {
   "cell_type": "code",
   "execution_count": 9,
   "id": "a7a3da21",
   "metadata": {},
   "outputs": [
    {
     "name": "stdout",
     "output_type": "stream",
     "text": [
      "3628800\n"
     ]
    }
   ],
   "source": [
    "# факториал\n",
    "factorial = 1\n",
    "\n",
    "for i in range(1, 11):\n",
    "    factorial *= i\n",
    "\n",
    "print(factorial)"
   ]
  },
  {
   "cell_type": "code",
   "execution_count": 17,
   "id": "3ed494a9",
   "metadata": {},
   "outputs": [
    {
     "name": "stdout",
     "output_type": "stream",
     "text": [
      "\n",
      "*\n",
      "**\n",
      "***\n",
      "****\n",
      "*****\n",
      "******\n",
      "*******\n",
      "********\n",
      "*********\n"
     ]
    }
   ],
   "source": [
    "# Ёлочка\n",
    "\n",
    "l = 10\n",
    "\n",
    "for x in range(l):\n",
    "    print('*'*x)"
   ]
  },
  {
   "cell_type": "code",
   "execution_count": 16,
   "id": "99d4169c",
   "metadata": {},
   "outputs": [
    {
     "name": "stdout",
     "output_type": "stream",
     "text": [
      "          \n",
      "         *\n",
      "        **\n",
      "       ***\n",
      "      ****\n",
      "     *****\n",
      "    ******\n",
      "   *******\n",
      "  ********\n",
      " *********\n"
     ]
    }
   ],
   "source": [
    "# обратная ёлочка\n",
    "\n",
    "l = 10\n",
    "\n",
    "for x in range(l):\n",
    "    print((' ' * (l - x) + '*' * x))"
   ]
  },
  {
   "cell_type": "code",
   "execution_count": 19,
   "id": "e71f7bf1",
   "metadata": {},
   "outputs": [
    {
     "name": "stdout",
     "output_type": "stream",
     "text": [
      "0\n",
      "2\n",
      "4\n",
      "6\n",
      "8\n"
     ]
    }
   ],
   "source": [
    "for x in range(10):\n",
    "    if not x % 2:\n",
    "        print(x)"
   ]
  },
  {
   "cell_type": "code",
   "execution_count": 23,
   "id": "178dc260",
   "metadata": {},
   "outputs": [
    {
     "name": "stdout",
     "output_type": "stream",
     "text": [
      "0\n",
      "2\n",
      "4\n",
      "6\n",
      "8\n"
     ]
    },
    {
     "data": {
      "text/plain": [
       "[None, '', None, '', None, '', None, '', None, '']"
      ]
     },
     "execution_count": 23,
     "metadata": {},
     "output_type": "execute_result"
    }
   ],
   "source": [
    "[print(x) if not x % 2 else '' for x in range(10)]"
   ]
  },
  {
   "cell_type": "code",
   "execution_count": 24,
   "id": "378697ab",
   "metadata": {},
   "outputs": [
    {
     "name": "stdout",
     "output_type": "stream",
     "text": [
      "1\n",
      "2\n",
      "1\n",
      "2\n",
      "1\n",
      "2\n"
     ]
    }
   ],
   "source": [
    "# рассчитайтесь на 1 - 2\n",
    "\n",
    "for x in range(6):\n",
    "    if x % 2:\n",
    "        print(2)\n",
    "    else:\n",
    "        print(1)"
   ]
  },
  {
   "cell_type": "code",
   "execution_count": 25,
   "id": "56577cdc",
   "metadata": {},
   "outputs": [
    {
     "name": "stdout",
     "output_type": "stream",
     "text": [
      "1\n",
      "2\n",
      "1\n",
      "2\n",
      "1\n",
      "2\n"
     ]
    }
   ],
   "source": [
    "# рассчитайтесь на 1 - 2\n",
    "\n",
    "for x in range(6):\n",
    "    print(x % 2 + 1)"
   ]
  },
  {
   "cell_type": "code",
   "execution_count": 28,
   "id": "22f5d78b",
   "metadata": {},
   "outputs": [
    {
     "name": "stdout",
     "output_type": "stream",
     "text": [
      "[2, 6, 8]\n"
     ]
    }
   ],
   "source": [
    "s = [2, 4, 6, 8, 10]\n",
    "\n",
    "for x in s:\n",
    "    if s.index(x) % 2:\n",
    "        s.remove(x)\n",
    "        # результат: [2, 6, 8] вместо [2, 6, 10].\n",
    "        # Поэтому во время цикла нельзя удалять элементы, на которые он ссылается!\n",
    "\n",
    "print(s)"
   ]
  },
  {
   "cell_type": "code",
   "execution_count": 29,
   "id": "6cec7e28",
   "metadata": {},
   "outputs": [],
   "source": [
    "# нечитаемая строка. Так писать НЕЛЬЗЯ!\n",
    "\n",
    "def short(objects: list) -> list:\n",
    "    return[[str(field)[0:45] + '...' if (len(str(field)) > 45) else field for field in object] for object in objects]\n",
    "\n",
    "# ещё плохой пример: нельзя менять глобальные переменные внутри функции\n",
    "\n",
    "global s = 100\n",
    "\n",
    "def my_func():\n",
    "    s += 100\n",
    "    # side-efects\n",
    "    \n",
    "# плохой пример: функция выполняет разные вещи. Её надо разбить на 2 функции:\n",
    "\n",
    "s = 100\n",
    "\n",
    "def my_func():\n",
    "    if type(x) == str:\n",
    "        return x[0:10]\n",
    "    else:\n",
    "        x += 100\n",
    "        return x\n",
    "    \n"
   ]
  },
  {
   "cell_type": "code",
   "execution_count": null,
   "id": "9b8149dd",
   "metadata": {},
   "outputs": [],
   "source": []
  }
 ],
 "metadata": {
  "kernelspec": {
   "display_name": "Python 3 (ipykernel)",
   "language": "python",
   "name": "python3"
  },
  "language_info": {
   "codemirror_mode": {
    "name": "ipython",
    "version": 3
   },
   "file_extension": ".py",
   "mimetype": "text/x-python",
   "name": "python",
   "nbconvert_exporter": "python",
   "pygments_lexer": "ipython3",
   "version": "3.10.6"
  }
 },
 "nbformat": 4,
 "nbformat_minor": 5
}
